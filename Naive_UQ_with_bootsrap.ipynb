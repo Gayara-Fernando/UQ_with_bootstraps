{
 "cells": [
  {
   "cell_type": "markdown",
   "id": "92a76067-7bd7-4139-9866-38639b2599e6",
   "metadata": {},
   "source": [
    "Implementing uncertainty quantification with bootstrapping on a toy dataset"
   ]
  },
  {
   "cell_type": "code",
   "execution_count": 1,
   "id": "685b04a3-b9a3-475a-b151-6e8f20b787b6",
   "metadata": {},
   "outputs": [
    {
     "name": "stderr",
     "output_type": "stream",
     "text": [
      "2025-03-13 12:09:49.839071: I tensorflow/core/util/port.cc:113] oneDNN custom operations are on. You may see slightly different numerical results due to floating-point round-off errors from different computation orders. To turn them off, set the environment variable `TF_ENABLE_ONEDNN_OPTS=0`.\n",
      "2025-03-13 12:09:50.329554: E external/local_xla/xla/stream_executor/cuda/cuda_dnn.cc:9261] Unable to register cuDNN factory: Attempting to register factory for plugin cuDNN when one has already been registered\n",
      "2025-03-13 12:09:50.329608: E external/local_xla/xla/stream_executor/cuda/cuda_fft.cc:607] Unable to register cuFFT factory: Attempting to register factory for plugin cuFFT when one has already been registered\n",
      "2025-03-13 12:09:50.434135: E external/local_xla/xla/stream_executor/cuda/cuda_blas.cc:1515] Unable to register cuBLAS factory: Attempting to register factory for plugin cuBLAS when one has already been registered\n",
      "2025-03-13 12:09:50.595295: I tensorflow/core/platform/cpu_feature_guard.cc:182] This TensorFlow binary is optimized to use available CPU instructions in performance-critical operations.\n",
      "To enable the following instructions: SSE4.1 SSE4.2 AVX AVX2 AVX512F AVX512_VNNI FMA, in other operations, rebuild TensorFlow with the appropriate compiler flags.\n"
     ]
    }
   ],
   "source": [
    "import numpy as np\n",
    "import pandas as pd\n",
    "import os\n",
    "import tensorflow as tf\n",
    "from sklearn.model_selection import train_test_split"
   ]
  },
  {
   "cell_type": "code",
   "execution_count": 2,
   "id": "d67ade8b-1bdd-4305-a3b3-dee1f3bd23d4",
   "metadata": {},
   "outputs": [
    {
     "data": {
      "text/plain": [
       "[PhysicalDevice(name='/physical_device:GPU:0', device_type='GPU')]"
      ]
     },
     "execution_count": 2,
     "metadata": {},
     "output_type": "execute_result"
    }
   ],
   "source": [
    "# check GPU availability\n",
    "tf.config.list_physical_devices(\"GPU\")"
   ]
  },
  {
   "cell_type": "code",
   "execution_count": 3,
   "id": "c61f336c-b3e5-48b8-b119-e91039357f46",
   "metadata": {},
   "outputs": [],
   "source": [
    "# Set random seed for reproducibility\n",
    "np.random.seed(21)\n",
    "tf.random.set_seed(21)"
   ]
  },
  {
   "cell_type": "code",
   "execution_count": 4,
   "id": "9d5023cb-ed04-4f83-84d0-be25973baf81",
   "metadata": {},
   "outputs": [],
   "source": [
    "# Step 1: Generate random data\n",
    "n_samples = 1000\n",
    "n_features = 10"
   ]
  },
  {
   "cell_type": "code",
   "execution_count": 5,
   "id": "08106efd-1044-4c86-8ec7-a0de68429bcc",
   "metadata": {},
   "outputs": [],
   "source": [
    "# Generate random input features (X) and output (y)\n",
    "X = np.random.randn(n_samples, n_features)\n",
    "y = 2 * np.sum(X, axis=1) + np.random.randn(n_samples)  # Simple linear relation + noise"
   ]
  },
  {
   "cell_type": "code",
   "execution_count": 6,
   "id": "eda02e8b-0ee5-479f-a325-7c54c4856262",
   "metadata": {},
   "outputs": [
    {
     "data": {
      "text/plain": [
       "((1000, 10), (1000,))"
      ]
     },
     "execution_count": 6,
     "metadata": {},
     "output_type": "execute_result"
    }
   ],
   "source": [
    "X.shape, y.shape"
   ]
  },
  {
   "cell_type": "code",
   "execution_count": 7,
   "id": "5bb2b1bb-4e21-49fb-a069-17bbe9d1a571",
   "metadata": {},
   "outputs": [],
   "source": [
    "# Split the data into training, validation, and test sets (80% train, 10% validation, 10% test)\n",
    "X_train, X_temp, y_train, y_temp = train_test_split(X, y, test_size=0.2, random_state=42)\n",
    "X_val, X_test, y_val, y_test = train_test_split(X_temp, y_temp, test_size=0.5, random_state=42)"
   ]
  },
  {
   "cell_type": "code",
   "execution_count": 8,
   "id": "a271e3c2-b375-431f-bd98-d87184fa8989",
   "metadata": {},
   "outputs": [
    {
     "data": {
      "text/plain": [
       "((800, 10), (800,), (100, 10), (100,), (100, 10), (100,))"
      ]
     },
     "execution_count": 8,
     "metadata": {},
     "output_type": "execute_result"
    }
   ],
   "source": [
    "X_train.shape, y_train.shape, X_val.shape, y_val.shape, X_test.shape, y_test.shape"
   ]
  },
  {
   "cell_type": "code",
   "execution_count": 9,
   "id": "e7d2ef5a-11ad-424e-8124-cb204614d4f2",
   "metadata": {},
   "outputs": [],
   "source": [
    "# Step 2: Define a simple fully connected neural network for Phase I (bootstrap models)\n",
    "def create_bootstrap_nn(input_shape):\n",
    "    model = tf.keras.models.Sequential([\n",
    "        tf.keras.layers.InputLayer(input_shape=input_shape),\n",
    "        tf.keras.layers.Dense(64, activation='relu'),\n",
    "        tf.keras.layers.Dense(32, activation='relu'),\n",
    "        tf.keras.layers.Dense(1)  # Output layer for regression\n",
    "    ])\n",
    "    model.compile(optimizer='adam', loss='mse')\n",
    "    return model"
   ]
  },
  {
   "cell_type": "code",
   "execution_count": 10,
   "id": "dd4762cc-6903-4de0-82c6-fc69927a53b4",
   "metadata": {},
   "outputs": [],
   "source": [
    "# Step 3: Define the noise variance estimation network (Phase II)\n",
    "def create_noise_variance_nn(input_shape):\n",
    "    model = tf.keras.models.Sequential([\n",
    "        tf.keras.layers.InputLayer(input_shape=input_shape),\n",
    "        tf.keras.layers.Dense(64, activation='relu'),\n",
    "        tf.keras.layers.Dense(32, activation='relu'),\n",
    "        tf.keras.layers.Dense(1)  # Output layer for variance prediction\n",
    "    ])\n",
    "    model.compile(optimizer='adam', loss='mse')\n",
    "    return model"
   ]
  },
  {
   "cell_type": "code",
   "execution_count": 11,
   "id": "3a2d60fc-95bd-4cd1-9ad6-9ed9723448b9",
   "metadata": {},
   "outputs": [],
   "source": [
    "# I think upto this moment it's clear, the only thing is for the second network, it is not using the correct loss function which is based on the MLE, and we need to adjust that. Let's figure out in the below code blocks if this is computing the r_2 values for the secnd network correctly."
   ]
  },
  {
   "cell_type": "code",
   "execution_count": 12,
   "id": "6e06aab8-77df-4b5a-ae64-0a8ed65bde70",
   "metadata": {},
   "outputs": [],
   "source": [
    "# careful attention to this function, is this doing teh correct thing?"
   ]
  },
  {
   "cell_type": "code",
   "execution_count": 13,
   "id": "fe8abfee-9b95-49d7-a535-5e9bc756fcb9",
   "metadata": {},
   "outputs": [
    {
     "data": {
      "text/plain": [
       "(10,)"
      ]
     },
     "execution_count": 13,
     "metadata": {},
     "output_type": "execute_result"
    }
   ],
   "source": [
    "X_train.shape[1:]"
   ]
  },
  {
   "cell_type": "code",
   "execution_count": 14,
   "id": "d57b0d5a-d962-4a35-b1a4-4bb1768969e7",
   "metadata": {},
   "outputs": [],
   "source": [
    "# Step 4: Train bootstrap neural networks (Phase I)\n",
    "def train_bootstrap_nns(X_train, y_train, B=10):\n",
    "    bootstrap_models = []\n",
    "    bootstrap_predictions = []\n",
    "\n",
    "    # Generate B bootstrap samples and train models\n",
    "    for _ in range(B):\n",
    "        # Create a bootstrap sample by sampling with replacement\n",
    "        indices = np.random.choice(len(X_train), size=len(X_train), replace=True)\n",
    "        X_bootstrap = X_train[indices]\n",
    "        y_bootstrap = y_train[indices]\n",
    "\n",
    "        # Create and train a new model\n",
    "        model = create_bootstrap_nn(X_train.shape[1:])\n",
    "        model.fit(X_bootstrap, y_bootstrap, epochs=50, batch_size=32, verbose = 0)\n",
    "        bootstrap_models.append(model)\n",
    "\n",
    "        # Store predictions on the original training data\n",
    "        predictions = model.predict(X_train)\n",
    "        bootstrap_predictions.append(predictions)\n",
    "\n",
    "    return bootstrap_models, np.array(bootstrap_predictions)"
   ]
  },
  {
   "cell_type": "code",
   "execution_count": 15,
   "id": "126a6a01-02d7-4f81-b382-3e8b029766dd",
   "metadata": {},
   "outputs": [],
   "source": [
    "# The function does the bootstraps, and save both the models from the bootstraps - for future, for the test set evaluations, and the predictions for the train set as those are necessary for the second network"
   ]
  },
  {
   "cell_type": "code",
   "execution_count": 16,
   "id": "30df00b4-7c27-40d6-a04a-1c5a920cafd2",
   "metadata": {},
   "outputs": [],
   "source": [
    "# Okay, now need to verify if the model variance that is computed straight away using np.var and the one specified in the paper by equation 6 are the same thing. If they are, then most of the problems in the code here are solved."
   ]
  },
  {
   "cell_type": "code",
   "execution_count": 17,
   "id": "699aeabb-8b8f-4659-88c9-484f51214a38",
   "metadata": {},
   "outputs": [
    {
     "name": "stderr",
     "output_type": "stream",
     "text": [
      "2025-03-13 12:10:08.593864: I tensorflow/core/common_runtime/gpu/gpu_device.cc:1929] Created device /job:localhost/replica:0/task:0/device:GPU:0 with 31134 MB memory:  -> device: 0, name: Tesla V100S-PCIE-32GB, pci bus id: 0000:86:00.0, compute capability: 7.0\n",
      "2025-03-13 12:10:11.060259: I external/local_xla/xla/service/service.cc:168] XLA service 0x14d3b9b18900 initialized for platform CUDA (this does not guarantee that XLA will be used). Devices:\n",
      "2025-03-13 12:10:11.060296: I external/local_xla/xla/service/service.cc:176]   StreamExecutor device (0): Tesla V100S-PCIE-32GB, Compute Capability 7.0\n",
      "2025-03-13 12:10:11.126397: I tensorflow/compiler/mlir/tensorflow/utils/dump_mlir_util.cc:269] disabling MLIR crash reproducer, set env var `MLIR_CRASH_REPRODUCER_DIRECTORY` to enable.\n",
      "2025-03-13 12:10:11.276683: I external/local_xla/xla/stream_executor/cuda/cuda_dnn.cc:454] Loaded cuDNN version 8907\n",
      "WARNING: All log messages before absl::InitializeLog() is called are written to STDERR\n",
      "I0000 00:00:1741885811.575417  191301 device_compiler.h:186] Compiled cluster using XLA!  This line is logged at most once for the lifetime of the process.\n"
     ]
    },
    {
     "name": "stdout",
     "output_type": "stream",
     "text": [
      "25/25 [==============================] - 0s 1ms/step\n",
      "25/25 [==============================] - 0s 937us/step\n",
      "25/25 [==============================] - 0s 926us/step\n",
      "25/25 [==============================] - 0s 1ms/step\n",
      "25/25 [==============================] - 0s 1ms/step\n",
      "25/25 [==============================] - 0s 970us/step\n",
      "25/25 [==============================] - 0s 961us/step\n",
      "25/25 [==============================] - 0s 1ms/step\n",
      "25/25 [==============================] - 0s 1ms/step\n",
      "25/25 [==============================] - 0s 1ms/step\n"
     ]
    }
   ],
   "source": [
    "# Step 6: Train the models\n",
    "# Train the bootstrap models (Phase I)\n",
    "bootstrap_models, bootstrap_predictions = train_bootstrap_nns(X_train, y_train, B=10)"
   ]
  },
  {
   "cell_type": "code",
   "execution_count": 18,
   "id": "e939b840-f306-4826-bae0-19f92854e474",
   "metadata": {},
   "outputs": [],
   "source": [
    "# variances all at once\n",
    "all_vars_at_once = np.var(bootstrap_predictions, axis=0)"
   ]
  },
  {
   "cell_type": "code",
   "execution_count": 19,
   "id": "67eeb218-0db0-4ee3-a72a-bcf0ca905285",
   "metadata": {},
   "outputs": [
    {
     "data": {
      "text/plain": [
       "(800, 1)"
      ]
     },
     "execution_count": 19,
     "metadata": {},
     "output_type": "execute_result"
    }
   ],
   "source": [
    "all_vars_at_once.shape"
   ]
  },
  {
   "cell_type": "code",
   "execution_count": 20,
   "id": "6f59621e-7315-4b71-ba97-d9f9131d4189",
   "metadata": {},
   "outputs": [],
   "source": [
    "# all_vars_at_once"
   ]
  },
  {
   "cell_type": "code",
   "execution_count": 21,
   "id": "f8eef3fa-f25c-49e9-8c42-f2118690129d",
   "metadata": {},
   "outputs": [
    {
     "data": {
      "text/plain": [
       "(10, 800, 1)"
      ]
     },
     "execution_count": 21,
     "metadata": {},
     "output_type": "execute_result"
    }
   ],
   "source": [
    "bootstrap_predictions.shape"
   ]
  },
  {
   "cell_type": "code",
   "execution_count": 22,
   "id": "5e0c50dc-e22a-49f3-ae70-843e009b8b6c",
   "metadata": {},
   "outputs": [],
   "source": [
    "# function to get the variances according to the equation 6 in the paper\n",
    "def equation_6_model_variance(all_preds):\n",
    "    all_vars = []\n",
    "    for i in range(all_preds.shape[1]):\n",
    "        var = (1/(all_preds.shape[0] ) - 1)*np.sum(np.square(all_preds[:,i,:] - np.mean(all_preds[:,i,:])))\n",
    "        all_vars.append(var)\n",
    "\n",
    "    return np.array(all_vars)\n",
    "    "
   ]
  },
  {
   "cell_type": "code",
   "execution_count": 23,
   "id": "be623469-137b-4ac9-ab8a-df8ff7b28008",
   "metadata": {},
   "outputs": [],
   "source": [
    "# Note that this is the model variance\n",
    "all_vars_eq_6 = equation_6_model_variance(bootstrap_predictions)"
   ]
  },
  {
   "cell_type": "code",
   "execution_count": 37,
   "id": "2c9f3a9e-afc7-408b-966f-627789accb64",
   "metadata": {},
   "outputs": [
    {
     "data": {
      "text/plain": [
       "(800,)"
      ]
     },
     "execution_count": 37,
     "metadata": {},
     "output_type": "execute_result"
    }
   ],
   "source": [
    "all_vars_eq_6.shape"
   ]
  },
  {
   "cell_type": "code",
   "execution_count": 43,
   "id": "29f54e76-2e27-4ccd-b386-d5d2083bb66a",
   "metadata": {},
   "outputs": [
    {
     "data": {
      "text/plain": [
       "(10, 800, 1)"
      ]
     },
     "execution_count": 43,
     "metadata": {},
     "output_type": "execute_result"
    }
   ],
   "source": [
    "bootstrap_predictions.shape"
   ]
  },
  {
   "cell_type": "code",
   "execution_count": 46,
   "id": "4477e3d0-9cfa-4b45-aa7c-ebd1ef258284",
   "metadata": {},
   "outputs": [
    {
     "data": {
      "text/plain": [
       "((800,), (800, 1))"
      ]
     },
     "execution_count": 46,
     "metadata": {},
     "output_type": "execute_result"
    }
   ],
   "source": [
    "y_train.shape, bootstrap_predictions[0].shape"
   ]
  },
  {
   "cell_type": "code",
   "execution_count": 49,
   "id": "b52a7386-6395-4e4d-8411-8ea7eb9e5dda",
   "metadata": {},
   "outputs": [
    {
     "data": {
      "text/plain": [
       "(800, 800)"
      ]
     },
     "execution_count": 49,
     "metadata": {},
     "output_type": "execute_result"
    }
   ],
   "source": [
    "((y_train - bootstrap_predictions[0])**2).shape"
   ]
  },
  {
   "cell_type": "code",
   "execution_count": 61,
   "id": "9ffe1784-b951-4403-be1f-61444a1e9f80",
   "metadata": {},
   "outputs": [
    {
     "data": {
      "text/plain": [
       "(800,)"
      ]
     },
     "execution_count": 61,
     "metadata": {},
     "output_type": "execute_result"
    }
   ],
   "source": [
    "((y_train - bootstrap_predictions[0].reshape(-1))**2).shape"
   ]
  },
  {
   "cell_type": "code",
   "execution_count": 25,
   "id": "d06643c8-2dc6-4b4d-8715-f4cb37cb79b2",
   "metadata": {},
   "outputs": [],
   "source": [
    "# Okay, found the discripancy, in finding the variance with np.var, the division is with B and not with B-1 - Therefore, we need to have this custom equation in order to get the correct variance associated with the bootstrapped values. "
   ]
  },
  {
   "cell_type": "code",
   "execution_count": 26,
   "id": "9c9298a0-fb25-447b-a0be-afda2b9d5d92",
   "metadata": {},
   "outputs": [],
   "source": [
    "# Okay, now we need to find a way to include this variance inside the work that we are doing"
   ]
  },
  {
   "cell_type": "code",
   "execution_count": 27,
   "id": "cb643558-c62f-411b-a1be-d82d036f36a3",
   "metadata": {},
   "outputs": [],
   "source": [
    "# Step 5: Phase II - Train the noise variance estimation network (NNₑ)\n",
    "def compute_r_squared(y_true, y_pred, model_variance):\n",
    "    residuals = (y_true - y_pred) ** 2 - model_variance\n",
    "    return np.maximum(residuals, 0)"
   ]
  },
  {
   "cell_type": "code",
   "execution_count": 63,
   "id": "044f3ed2-24a3-477b-b507-bc28f341bf75",
   "metadata": {},
   "outputs": [],
   "source": [
    "# Edit the function to include the correct model misspecification varaince\n",
    "def train_noise_variance_nn(X_train, y_train, bootstrap_predictions, model_variance, B=10):\n",
    "    # Calculate r^2(x_i) for each bootstrap model\n",
    "    residuals_all = []\n",
    "    for b in range(B):\n",
    "        # need to reshape the prediction vector as it has shape (800,1) and the train y shape is just (800,)\n",
    "        residuals = compute_r_squared(y_train, bootstrap_predictions[b].reshape(-1), model_variance)\n",
    "        residuals_all.append(residuals)\n",
    "    \n",
    "    residuals_all = np.stack(residuals_all, axis=-1)\n",
    "    mean_residuals = np.mean(residuals_all, axis=-1)  # Averaging residuals across bootstrap models\n",
    "\n",
    "    # Create and train the NNₑ for noise variance estimation\n",
    "    nn_e = create_noise_variance_nn(X_train.shape[1:])\n",
    "    nn_e.fit(X_train, mean_residuals, epochs=50, batch_size=32)\n",
    "\n",
    "    return nn_e"
   ]
  },
  {
   "cell_type": "code",
   "execution_count": 64,
   "id": "057e6608-d38b-441f-85fa-77a9f1dcb585",
   "metadata": {
    "scrolled": true
   },
   "outputs": [
    {
     "name": "stdout",
     "output_type": "stream",
     "text": [
      "Epoch 1/50\n",
      "25/25 [==============================] - 1s 2ms/step - loss: 7.1100\n",
      "Epoch 2/50\n",
      "25/25 [==============================] - 0s 2ms/step - loss: 4.2758\n",
      "Epoch 3/50\n",
      "25/25 [==============================] - 0s 2ms/step - loss: 3.8012\n",
      "Epoch 4/50\n",
      "25/25 [==============================] - 0s 2ms/step - loss: 3.6134\n",
      "Epoch 5/50\n",
      "25/25 [==============================] - 0s 2ms/step - loss: 3.5103\n",
      "Epoch 6/50\n",
      "25/25 [==============================] - 0s 2ms/step - loss: 3.4422\n",
      "Epoch 7/50\n",
      "25/25 [==============================] - 0s 2ms/step - loss: 3.3883\n",
      "Epoch 8/50\n",
      "25/25 [==============================] - 0s 2ms/step - loss: 3.3339\n",
      "Epoch 9/50\n",
      "25/25 [==============================] - 0s 1ms/step - loss: 3.2983\n",
      "Epoch 10/50\n",
      "25/25 [==============================] - 0s 2ms/step - loss: 3.2588\n",
      "Epoch 11/50\n",
      "25/25 [==============================] - 0s 3ms/step - loss: 3.2316\n",
      "Epoch 12/50\n",
      "25/25 [==============================] - 0s 3ms/step - loss: 3.1965\n",
      "Epoch 13/50\n",
      "25/25 [==============================] - 0s 3ms/step - loss: 3.1429\n",
      "Epoch 14/50\n",
      "25/25 [==============================] - 0s 3ms/step - loss: 3.1303\n",
      "Epoch 15/50\n",
      "25/25 [==============================] - 0s 3ms/step - loss: 3.1020\n",
      "Epoch 16/50\n",
      "25/25 [==============================] - 0s 3ms/step - loss: 3.0608\n",
      "Epoch 17/50\n",
      "25/25 [==============================] - 0s 3ms/step - loss: 3.0437\n",
      "Epoch 18/50\n",
      "25/25 [==============================] - 0s 2ms/step - loss: 3.0234\n",
      "Epoch 19/50\n",
      "25/25 [==============================] - 0s 3ms/step - loss: 2.9904\n",
      "Epoch 20/50\n",
      "25/25 [==============================] - 0s 3ms/step - loss: 2.9518\n",
      "Epoch 21/50\n",
      "25/25 [==============================] - 0s 3ms/step - loss: 2.9231\n",
      "Epoch 22/50\n",
      "25/25 [==============================] - 0s 3ms/step - loss: 2.8996\n",
      "Epoch 23/50\n",
      "25/25 [==============================] - 0s 3ms/step - loss: 2.8594\n",
      "Epoch 24/50\n",
      "25/25 [==============================] - 0s 3ms/step - loss: 2.8500\n",
      "Epoch 25/50\n",
      "25/25 [==============================] - 0s 3ms/step - loss: 2.8111\n",
      "Epoch 26/50\n",
      "25/25 [==============================] - 0s 3ms/step - loss: 2.7922\n",
      "Epoch 27/50\n",
      "25/25 [==============================] - 0s 3ms/step - loss: 2.7570\n",
      "Epoch 28/50\n",
      "25/25 [==============================] - 0s 3ms/step - loss: 2.7343\n",
      "Epoch 29/50\n",
      "25/25 [==============================] - 0s 3ms/step - loss: 2.7013\n",
      "Epoch 30/50\n",
      "25/25 [==============================] - 0s 3ms/step - loss: 2.6713\n",
      "Epoch 31/50\n",
      "25/25 [==============================] - 0s 2ms/step - loss: 2.6371\n",
      "Epoch 32/50\n",
      "25/25 [==============================] - 0s 2ms/step - loss: 2.6168\n",
      "Epoch 33/50\n",
      "25/25 [==============================] - 0s 2ms/step - loss: 2.5859\n",
      "Epoch 34/50\n",
      "25/25 [==============================] - 0s 2ms/step - loss: 2.5862\n",
      "Epoch 35/50\n",
      "25/25 [==============================] - 0s 2ms/step - loss: 2.5441\n",
      "Epoch 36/50\n",
      "25/25 [==============================] - 0s 2ms/step - loss: 2.5126\n",
      "Epoch 37/50\n",
      "25/25 [==============================] - 0s 2ms/step - loss: 2.4696\n",
      "Epoch 38/50\n",
      "25/25 [==============================] - 0s 2ms/step - loss: 2.4691\n",
      "Epoch 39/50\n",
      "25/25 [==============================] - 0s 2ms/step - loss: 2.4117\n",
      "Epoch 40/50\n",
      "25/25 [==============================] - 0s 2ms/step - loss: 2.3817\n",
      "Epoch 41/50\n",
      "25/25 [==============================] - 0s 2ms/step - loss: 2.3709\n",
      "Epoch 42/50\n",
      "25/25 [==============================] - 0s 2ms/step - loss: 2.3337\n",
      "Epoch 43/50\n",
      "25/25 [==============================] - 0s 2ms/step - loss: 2.3020\n",
      "Epoch 44/50\n",
      "25/25 [==============================] - 0s 2ms/step - loss: 2.2678\n",
      "Epoch 45/50\n",
      "25/25 [==============================] - 0s 2ms/step - loss: 2.2413\n",
      "Epoch 46/50\n",
      "25/25 [==============================] - 0s 2ms/step - loss: 2.2121\n",
      "Epoch 47/50\n",
      "25/25 [==============================] - 0s 2ms/step - loss: 2.2139\n",
      "Epoch 48/50\n",
      "25/25 [==============================] - 0s 2ms/step - loss: 2.1512\n",
      "Epoch 49/50\n",
      "25/25 [==============================] - 0s 2ms/step - loss: 2.1314\n",
      "Epoch 50/50\n",
      "25/25 [==============================] - 0s 2ms/step - loss: 2.1079\n"
     ]
    }
   ],
   "source": [
    "# Train the noise variance estimation model (Phase II)\n",
    "nn_e = train_noise_variance_nn(X_train, y_train, bootstrap_predictions, all_vars_eq_6, B=10)"
   ]
  },
  {
   "cell_type": "code",
   "execution_count": 65,
   "id": "34871fea-c6c9-470b-85c7-fea78da494d7",
   "metadata": {},
   "outputs": [
    {
     "name": "stdout",
     "output_type": "stream",
     "text": [
      "4/4 [==============================] - 0s 1ms/step\n",
      "4/4 [==============================] - 0s 1ms/step\n",
      "4/4 [==============================] - 0s 1ms/step\n",
      "4/4 [==============================] - 0s 1ms/step\n",
      "4/4 [==============================] - 0s 1ms/step\n",
      "4/4 [==============================] - 0s 1ms/step\n",
      "4/4 [==============================] - 0s 1ms/step\n",
      "4/4 [==============================] - 0s 1ms/step\n",
      "4/4 [==============================] - 0s 2ms/step\n",
      "4/4 [==============================] - 0s 1ms/step\n"
     ]
    }
   ],
   "source": [
    "# Step 7: Evaluate the models on the test set\n",
    "# Make predictions with the bootstrap models\n",
    "bootstrap_preds_test = np.array([model.predict(X_test) for model in bootstrap_models])"
   ]
  },
  {
   "cell_type": "code",
   "execution_count": 66,
   "id": "2dfa6071-7da6-4dec-9fc8-a33984e66cdf",
   "metadata": {},
   "outputs": [
    {
     "data": {
      "text/plain": [
       "(10, 100, 1)"
      ]
     },
     "execution_count": 66,
     "metadata": {},
     "output_type": "execute_result"
    }
   ],
   "source": [
    "bootstrap_preds_test.shape"
   ]
  },
  {
   "cell_type": "code",
   "execution_count": 67,
   "id": "69aa033d-11ad-4433-b1d2-aba923f5ac54",
   "metadata": {},
   "outputs": [],
   "source": [
    "# Calculate the mean prediction across all bootstrap models\n",
    "bootstrap_mean_preds_test = np.mean(bootstrap_preds_test, axis=0)"
   ]
  },
  {
   "cell_type": "code",
   "execution_count": 68,
   "id": "adf5ffea-317b-4b30-b0a2-cab4ae4a041c",
   "metadata": {},
   "outputs": [
    {
     "data": {
      "text/plain": [
       "(100, 1)"
      ]
     },
     "execution_count": 68,
     "metadata": {},
     "output_type": "execute_result"
    }
   ],
   "source": [
    "bootstrap_mean_preds_test.shape"
   ]
  },
  {
   "cell_type": "code",
   "execution_count": 69,
   "id": "c8e2104f-066a-43a1-be03-2a5be81bbf8f",
   "metadata": {},
   "outputs": [
    {
     "name": "stdout",
     "output_type": "stream",
     "text": [
      "4/4 [==============================] - 0s 2ms/step\n"
     ]
    }
   ],
   "source": [
    "# Estimate the noise variance using NNₑ\n",
    "predicted_variance_test = nn_e.predict(X_test)"
   ]
  },
  {
   "cell_type": "code",
   "execution_count": 70,
   "id": "92b6b3ea-34fa-4bf1-8768-988f499a5f5e",
   "metadata": {},
   "outputs": [
    {
     "data": {
      "text/plain": [
       "(100, 1)"
      ]
     },
     "execution_count": 70,
     "metadata": {},
     "output_type": "execute_result"
    }
   ],
   "source": [
    "predicted_variance_test.shape"
   ]
  },
  {
   "cell_type": "code",
   "execution_count": 71,
   "id": "5428a2d4-3e3a-4ad9-999c-b2c7ab5a7452",
   "metadata": {},
   "outputs": [
    {
     "name": "stdout",
     "output_type": "stream",
     "text": [
      "Mean prediction for test set: -0.17154209315776825\n",
      "Estimated noise variance (NNₑ) for test set: 2.406175374984741\n"
     ]
    }
   ],
   "source": [
    "# Print results\n",
    "print(f\"Mean prediction for test set: {np.mean(bootstrap_mean_preds_test)}\")\n",
    "print(f\"Estimated noise variance (NNₑ) for test set: {np.mean(predicted_variance_test)}\")"
   ]
  },
  {
   "cell_type": "markdown",
   "id": "db70a07b-d0b2-4cb6-9091-1c135307e6ed",
   "metadata": {},
   "source": [
    "But, notice that this method has a mishap. We need to use the loss with MLE for the second NN for the error variance, but this model is still using the same loss (mse) as the NN used for the bootsraps. We will look at this stpe in the next notbeook."
   ]
  }
 ],
 "metadata": {
  "kernelspec": {
   "display_name": "Python (tfp_for_TN)",
   "language": "python",
   "name": "tfp_for_tn"
  },
  "language_info": {
   "codemirror_mode": {
    "name": "ipython",
    "version": 3
   },
   "file_extension": ".py",
   "mimetype": "text/x-python",
   "name": "python",
   "nbconvert_exporter": "python",
   "pygments_lexer": "ipython3",
   "version": "3.10.14"
  }
 },
 "nbformat": 4,
 "nbformat_minor": 5
}
