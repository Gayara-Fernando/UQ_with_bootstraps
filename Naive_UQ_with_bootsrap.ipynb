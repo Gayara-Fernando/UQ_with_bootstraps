{
 "cells": [
  {
   "cell_type": "markdown",
   "id": "92a76067-7bd7-4139-9866-38639b2599e6",
   "metadata": {},
   "source": [
    "Implementing uncertainty quantification with bootstrapping on a toy dataset"
   ]
  },
  {
   "cell_type": "code",
   "execution_count": 1,
   "id": "685b04a3-b9a3-475a-b151-6e8f20b787b6",
   "metadata": {},
   "outputs": [
    {
     "name": "stderr",
     "output_type": "stream",
     "text": [
      "2025-03-12 13:40:08.551848: I tensorflow/core/util/port.cc:113] oneDNN custom operations are on. You may see slightly different numerical results due to floating-point round-off errors from different computation orders. To turn them off, set the environment variable `TF_ENABLE_ONEDNN_OPTS=0`.\n",
      "2025-03-12 13:40:10.160259: E external/local_xla/xla/stream_executor/cuda/cuda_dnn.cc:9261] Unable to register cuDNN factory: Attempting to register factory for plugin cuDNN when one has already been registered\n",
      "2025-03-12 13:40:10.160312: E external/local_xla/xla/stream_executor/cuda/cuda_fft.cc:607] Unable to register cuFFT factory: Attempting to register factory for plugin cuFFT when one has already been registered\n",
      "2025-03-12 13:40:10.412663: E external/local_xla/xla/stream_executor/cuda/cuda_blas.cc:1515] Unable to register cuBLAS factory: Attempting to register factory for plugin cuBLAS when one has already been registered\n",
      "2025-03-12 13:40:10.837513: I tensorflow/core/platform/cpu_feature_guard.cc:182] This TensorFlow binary is optimized to use available CPU instructions in performance-critical operations.\n",
      "To enable the following instructions: SSE4.1 SSE4.2 AVX AVX2 AVX512F AVX512_VNNI FMA, in other operations, rebuild TensorFlow with the appropriate compiler flags.\n"
     ]
    }
   ],
   "source": [
    "import numpy as np\n",
    "import pandas as pd\n",
    "import os\n",
    "import tensorflow as tf\n",
    "from sklearn.model_selection import train_test_split"
   ]
  },
  {
   "cell_type": "code",
   "execution_count": 3,
   "id": "d67ade8b-1bdd-4305-a3b3-dee1f3bd23d4",
   "metadata": {},
   "outputs": [
    {
     "data": {
      "text/plain": [
       "[PhysicalDevice(name='/physical_device:GPU:0', device_type='GPU')]"
      ]
     },
     "execution_count": 3,
     "metadata": {},
     "output_type": "execute_result"
    }
   ],
   "source": [
    "# check GPU availability\n",
    "tf.config.list_physical_devices(\"GPU\")"
   ]
  },
  {
   "cell_type": "code",
   "execution_count": 4,
   "id": "9d5023cb-ed04-4f83-84d0-be25973baf81",
   "metadata": {},
   "outputs": [],
   "source": [
    "# Step 1: Generate random data\n",
    "n_samples = 1000\n",
    "n_features = 10"
   ]
  },
  {
   "cell_type": "code",
   "execution_count": 5,
   "id": "08106efd-1044-4c86-8ec7-a0de68429bcc",
   "metadata": {},
   "outputs": [],
   "source": [
    "# Generate random input features (X) and output (y)\n",
    "X = np.random.randn(n_samples, n_features)\n",
    "y = 2 * np.sum(X, axis=1) + np.random.randn(n_samples)  # Simple linear relation + noise"
   ]
  },
  {
   "cell_type": "code",
   "execution_count": 6,
   "id": "eda02e8b-0ee5-479f-a325-7c54c4856262",
   "metadata": {},
   "outputs": [
    {
     "data": {
      "text/plain": [
       "((1000, 10), (1000,))"
      ]
     },
     "execution_count": 6,
     "metadata": {},
     "output_type": "execute_result"
    }
   ],
   "source": [
    "X.shape, y.shape"
   ]
  },
  {
   "cell_type": "code",
   "execution_count": 7,
   "id": "5bb2b1bb-4e21-49fb-a069-17bbe9d1a571",
   "metadata": {},
   "outputs": [],
   "source": [
    "# Split the data into training, validation, and test sets (80% train, 10% validation, 10% test)\n",
    "X_train, X_temp, y_train, y_temp = train_test_split(X, y, test_size=0.2, random_state=42)\n",
    "X_val, X_test, y_val, y_test = train_test_split(X_temp, y_temp, test_size=0.5, random_state=42)"
   ]
  },
  {
   "cell_type": "code",
   "execution_count": 8,
   "id": "a271e3c2-b375-431f-bd98-d87184fa8989",
   "metadata": {},
   "outputs": [
    {
     "data": {
      "text/plain": [
       "((800, 10), (800,), (100, 10), (100,), (100, 10), (100,))"
      ]
     },
     "execution_count": 8,
     "metadata": {},
     "output_type": "execute_result"
    }
   ],
   "source": [
    "X_train.shape, y_train.shape, X_val.shape, y_val.shape, X_test.shape, y_test.shape"
   ]
  },
  {
   "cell_type": "code",
   "execution_count": 15,
   "id": "e7d2ef5a-11ad-424e-8124-cb204614d4f2",
   "metadata": {},
   "outputs": [],
   "source": [
    "# Step 2: Define a simple fully connected neural network for Phase I (bootstrap models)\n",
    "def create_bootstrap_nn(input_shape):\n",
    "    model = tf.keras.models.Sequential([\n",
    "        tf.keras.layers.InputLayer(input_shape=input_shape),\n",
    "        tf.keras.layers.Dense(64, activation='relu'),\n",
    "        tf.keras.layers.Dense(32, activation='relu'),\n",
    "        tf.keras.layers.Dense(1)  # Output layer for regression\n",
    "    ])\n",
    "    model.compile(optimizer='adam', loss='mse')\n",
    "    return model"
   ]
  },
  {
   "cell_type": "code",
   "execution_count": 16,
   "id": "dd4762cc-6903-4de0-82c6-fc69927a53b4",
   "metadata": {},
   "outputs": [],
   "source": [
    "# Step 3: Define the noise variance estimation network (Phase II)\n",
    "def create_noise_variance_nn(input_shape):\n",
    "    model = tf.keras.models.Sequential([\n",
    "        tf.keras.layers.InputLayer(input_shape=input_shape),\n",
    "        tf.keras.layers.Dense(64, activation='relu'),\n",
    "        tf.keras.layers.Dense(32, activation='relu'),\n",
    "        tf.keras.layers.Dense(1)  # Output layer for variance prediction\n",
    "    ])\n",
    "    model.compile(optimizer='adam', loss='mse')\n",
    "    return model"
   ]
  },
  {
   "cell_type": "code",
   "execution_count": 11,
   "id": "d57b0d5a-d962-4a35-b1a4-4bb1768969e7",
   "metadata": {},
   "outputs": [],
   "source": [
    "# Step 4: Train bootstrap neural networks (Phase I)\n",
    "def train_bootstrap_nns(X_train, y_train, B=10):\n",
    "    bootstrap_models = []\n",
    "    bootstrap_predictions = []\n",
    "\n",
    "    # Generate B bootstrap samples and train models\n",
    "    for _ in range(B):\n",
    "        # Create a bootstrap sample by sampling with replacement\n",
    "        indices = np.random.choice(len(X_train), size=len(X_train), replace=True)\n",
    "        X_bootstrap = X_train[indices]\n",
    "        y_bootstrap = y_train[indices]\n",
    "\n",
    "        # Create and train a new model\n",
    "        model = create_bootstrap_nn(X_train.shape[1:])\n",
    "        model.fit(X_bootstrap, y_bootstrap, epochs=50, batch_size=32)\n",
    "        bootstrap_models.append(model)\n",
    "\n",
    "        # Store predictions on the original training data\n",
    "        predictions = model.predict(X_train)\n",
    "        bootstrap_predictions.append(predictions)\n",
    "\n",
    "    return bootstrap_models, np.array(bootstrap_predictions)"
   ]
  },
  {
   "cell_type": "code",
   "execution_count": 12,
   "id": "cb643558-c62f-411b-a1be-d82d036f36a3",
   "metadata": {},
   "outputs": [],
   "source": [
    "# Step 5: Phase II - Train the noise variance estimation network (NNₑ)\n",
    "def compute_r_squared(y_true, y_pred, model_variance):\n",
    "    residuals = (y_true - y_pred) ** 2 - model_variance\n",
    "    return np.maximum(residuals, 0)"
   ]
  },
  {
   "cell_type": "code",
   "execution_count": 13,
   "id": "044f3ed2-24a3-477b-b507-bc28f341bf75",
   "metadata": {},
   "outputs": [],
   "source": [
    "def train_noise_variance_nn(X_train, y_train, bootstrap_predictions, B=10):\n",
    "    # Calculate r^2(x_i) for each bootstrap model\n",
    "    residuals_all = []\n",
    "    for b in range(B):\n",
    "        residuals = compute_r_squared(y_train, bootstrap_predictions[b], np.var(bootstrap_predictions, axis=0))\n",
    "        residuals_all.append(residuals)\n",
    "    \n",
    "    residuals_all = np.stack(residuals_all, axis=-1)\n",
    "    mean_residuals = np.mean(residuals_all, axis=-1)  # Averaging residuals across bootstrap models\n",
    "\n",
    "    # Create and train the NNₑ for noise variance estimation\n",
    "    nn_e = create_noise_variance_nn(X_train.shape[1:])\n",
    "    nn_e.fit(X_train, mean_residuals, epochs=50, batch_size=32)\n",
    "\n",
    "    return nn_e"
   ]
  },
  {
   "cell_type": "code",
   "execution_count": 17,
   "id": "699aeabb-8b8f-4659-88c9-484f51214a38",
   "metadata": {},
   "outputs": [
    {
     "name": "stderr",
     "output_type": "stream",
     "text": [
      "2025-03-12 13:46:39.094175: I tensorflow/core/common_runtime/gpu/gpu_device.cc:1929] Created device /job:localhost/replica:0/task:0/device:GPU:0 with 495 MB memory:  -> device: 0, name: Tesla V100S-PCIE-32GB, pci bus id: 0000:06:00.0, compute capability: 7.0\n",
      "2025-03-12 13:46:43.669944: I external/local_xla/xla/service/service.cc:168] XLA service 0x154b91cb0b80 initialized for platform CUDA (this does not guarantee that XLA will be used). Devices:\n",
      "2025-03-12 13:46:43.669980: I external/local_xla/xla/service/service.cc:176]   StreamExecutor device (0): Tesla V100S-PCIE-32GB, Compute Capability 7.0\n",
      "2025-03-12 13:46:43.790382: I tensorflow/compiler/mlir/tensorflow/utils/dump_mlir_util.cc:269] disabling MLIR crash reproducer, set env var `MLIR_CRASH_REPRODUCER_DIRECTORY` to enable.\n",
      "2025-03-12 13:46:44.163649: I external/local_xla/xla/stream_executor/cuda/cuda_dnn.cc:454] Loaded cuDNN version 8907\n",
      "WARNING: All log messages before absl::InitializeLog() is called are written to STDERR\n",
      "I0000 00:00:1741805204.496006  101526 device_compiler.h:186] Compiled cluster using XLA!  This line is logged at most once for the lifetime of the process.\n"
     ]
    },
    {
     "name": "stdout",
     "output_type": "stream",
     "text": [
      "25/25 [==============================] - 0s 1ms/step\n",
      "25/25 [==============================] - 0s 1ms/step\n",
      "25/25 [==============================] - 0s 973us/step\n",
      "25/25 [==============================] - 0s 958us/step\n",
      "25/25 [==============================] - 0s 1ms/step\n",
      "25/25 [==============================] - 0s 960us/step\n",
      "25/25 [==============================] - 0s 949us/step\n",
      "25/25 [==============================] - 0s 972us/step\n",
      "25/25 [==============================] - 0s 975us/step\n",
      "25/25 [==============================] - 0s 1ms/step\n"
     ]
    }
   ],
   "source": [
    "# Step 6: Train the models\n",
    "# Train the bootstrap models (Phase I)\n",
    "bootstrap_models, bootstrap_predictions = train_bootstrap_nns(X_train, y_train, B=10)"
   ]
  },
  {
   "cell_type": "code",
   "execution_count": 18,
   "id": "057e6608-d38b-441f-85fa-77a9f1dcb585",
   "metadata": {},
   "outputs": [
    {
     "name": "stdout",
     "output_type": "stream",
     "text": [
      "Epoch 1/50\n",
      "25/25 [==============================] - 1s 3ms/step - loss: 18427.5469\n",
      "Epoch 2/50\n",
      "25/25 [==============================] - 0s 2ms/step - loss: 18094.6680\n",
      "Epoch 3/50\n",
      "25/25 [==============================] - 0s 2ms/step - loss: 17572.9316\n",
      "Epoch 4/50\n",
      "25/25 [==============================] - 0s 3ms/step - loss: 16780.4980\n",
      "Epoch 5/50\n",
      "25/25 [==============================] - 0s 3ms/step - loss: 15691.0771\n",
      "Epoch 6/50\n",
      "25/25 [==============================] - 0s 3ms/step - loss: 14418.3877\n",
      "Epoch 7/50\n",
      "25/25 [==============================] - 0s 3ms/step - loss: 13195.1221\n",
      "Epoch 8/50\n",
      "25/25 [==============================] - 0s 3ms/step - loss: 12260.7500\n",
      "Epoch 9/50\n",
      "25/25 [==============================] - 0s 3ms/step - loss: 11703.5596\n",
      "Epoch 10/50\n",
      "25/25 [==============================] - 0s 3ms/step - loss: 11420.9199\n",
      "Epoch 11/50\n",
      "25/25 [==============================] - 0s 3ms/step - loss: 11199.0029\n",
      "Epoch 12/50\n",
      "25/25 [==============================] - 0s 3ms/step - loss: 11023.9492\n",
      "Epoch 13/50\n",
      "25/25 [==============================] - 0s 3ms/step - loss: 10866.6641\n",
      "Epoch 14/50\n",
      "25/25 [==============================] - 0s 3ms/step - loss: 10716.2891\n",
      "Epoch 15/50\n",
      "25/25 [==============================] - 0s 3ms/step - loss: 10578.0371\n",
      "Epoch 16/50\n",
      "25/25 [==============================] - 0s 3ms/step - loss: 10452.9961\n",
      "Epoch 17/50\n",
      "25/25 [==============================] - 0s 3ms/step - loss: 10337.2197\n",
      "Epoch 18/50\n",
      "25/25 [==============================] - 0s 3ms/step - loss: 10228.0400\n",
      "Epoch 19/50\n",
      "25/25 [==============================] - 0s 3ms/step - loss: 10132.6094\n",
      "Epoch 20/50\n",
      "25/25 [==============================] - 0s 3ms/step - loss: 10048.5420\n",
      "Epoch 21/50\n",
      "25/25 [==============================] - 0s 3ms/step - loss: 9979.0967\n",
      "Epoch 22/50\n",
      "25/25 [==============================] - 0s 3ms/step - loss: 9919.0703\n",
      "Epoch 23/50\n",
      "25/25 [==============================] - 0s 3ms/step - loss: 9864.0596\n",
      "Epoch 24/50\n",
      "25/25 [==============================] - 0s 3ms/step - loss: 9819.4326\n",
      "Epoch 25/50\n",
      "25/25 [==============================] - 0s 3ms/step - loss: 9785.3984\n",
      "Epoch 26/50\n",
      "25/25 [==============================] - 0s 3ms/step - loss: 9756.6396\n",
      "Epoch 27/50\n",
      "25/25 [==============================] - 0s 3ms/step - loss: 9735.3086\n",
      "Epoch 28/50\n",
      "25/25 [==============================] - 0s 3ms/step - loss: 9717.4443\n",
      "Epoch 29/50\n",
      "25/25 [==============================] - 0s 3ms/step - loss: 9704.8672\n",
      "Epoch 30/50\n",
      "25/25 [==============================] - 0s 3ms/step - loss: 9693.8291\n",
      "Epoch 31/50\n",
      "25/25 [==============================] - 0s 3ms/step - loss: 9685.7686\n",
      "Epoch 32/50\n",
      "25/25 [==============================] - 0s 3ms/step - loss: 9680.1689\n",
      "Epoch 33/50\n",
      "25/25 [==============================] - 0s 3ms/step - loss: 9674.7070\n",
      "Epoch 34/50\n",
      "25/25 [==============================] - 0s 3ms/step - loss: 9671.3779\n",
      "Epoch 35/50\n",
      "25/25 [==============================] - 0s 3ms/step - loss: 9670.4004\n",
      "Epoch 36/50\n",
      "25/25 [==============================] - 0s 3ms/step - loss: 9665.8545\n",
      "Epoch 37/50\n",
      "25/25 [==============================] - 0s 3ms/step - loss: 9663.7539\n",
      "Epoch 38/50\n",
      "25/25 [==============================] - 0s 3ms/step - loss: 9660.8916\n",
      "Epoch 39/50\n",
      "25/25 [==============================] - 0s 3ms/step - loss: 9661.3828\n",
      "Epoch 40/50\n",
      "25/25 [==============================] - 0s 3ms/step - loss: 9658.1816\n",
      "Epoch 41/50\n",
      "25/25 [==============================] - 0s 3ms/step - loss: 9655.9092\n",
      "Epoch 42/50\n",
      "25/25 [==============================] - 0s 3ms/step - loss: 9654.7646\n",
      "Epoch 43/50\n",
      "25/25 [==============================] - 0s 3ms/step - loss: 9652.4561\n",
      "Epoch 44/50\n",
      "25/25 [==============================] - 0s 3ms/step - loss: 9650.6943\n",
      "Epoch 45/50\n",
      "25/25 [==============================] - 0s 3ms/step - loss: 9650.5996\n",
      "Epoch 46/50\n",
      "25/25 [==============================] - 0s 3ms/step - loss: 9648.5059\n",
      "Epoch 47/50\n",
      "25/25 [==============================] - 0s 3ms/step - loss: 9646.9336\n",
      "Epoch 48/50\n",
      "25/25 [==============================] - 0s 3ms/step - loss: 9644.7490\n",
      "Epoch 49/50\n",
      "25/25 [==============================] - 0s 3ms/step - loss: 9644.6357\n",
      "Epoch 50/50\n",
      "25/25 [==============================] - 0s 3ms/step - loss: 9642.6719\n"
     ]
    }
   ],
   "source": [
    "# Train the noise variance estimation model (Phase II)\n",
    "nn_e = train_noise_variance_nn(X_train, y_train, bootstrap_predictions, B=10)"
   ]
  },
  {
   "cell_type": "code",
   "execution_count": 19,
   "id": "34871fea-c6c9-470b-85c7-fea78da494d7",
   "metadata": {},
   "outputs": [
    {
     "name": "stdout",
     "output_type": "stream",
     "text": [
      "4/4 [==============================] - 0s 23ms/step\n",
      "4/4 [==============================] - 0s 1ms/step\n",
      "4/4 [==============================] - 0s 1ms/step\n",
      "4/4 [==============================] - 0s 1ms/step\n",
      "4/4 [==============================] - 0s 1ms/step\n",
      "4/4 [==============================] - 0s 1ms/step\n",
      "4/4 [==============================] - 0s 2ms/step\n",
      "4/4 [==============================] - 0s 2ms/step\n",
      "4/4 [==============================] - 0s 2ms/step\n",
      "4/4 [==============================] - 0s 1ms/step\n"
     ]
    }
   ],
   "source": [
    "# Step 7: Evaluate the models on the test set\n",
    "# Make predictions with the bootstrap models\n",
    "bootstrap_preds_test = np.array([model.predict(X_test) for model in bootstrap_models])"
   ]
  },
  {
   "cell_type": "code",
   "execution_count": 20,
   "id": "69aa033d-11ad-4433-b1d2-aba923f5ac54",
   "metadata": {},
   "outputs": [],
   "source": [
    "# Calculate the mean prediction across all bootstrap models\n",
    "bootstrap_mean_preds_test = np.mean(bootstrap_preds_test, axis=0)"
   ]
  },
  {
   "cell_type": "code",
   "execution_count": 21,
   "id": "c8e2104f-066a-43a1-be03-2a5be81bbf8f",
   "metadata": {},
   "outputs": [
    {
     "name": "stdout",
     "output_type": "stream",
     "text": [
      "4/4 [==============================] - 0s 1ms/step\n"
     ]
    }
   ],
   "source": [
    "# Estimate the noise variance using NNₑ\n",
    "predicted_variance_test = nn_e.predict(X_test)"
   ]
  },
  {
   "cell_type": "code",
   "execution_count": 22,
   "id": "5428a2d4-3e3a-4ad9-999c-b2c7ab5a7452",
   "metadata": {},
   "outputs": [
    {
     "name": "stdout",
     "output_type": "stream",
     "text": [
      "Mean prediction for test set: 0.5567110180854797\n",
      "Estimated noise variance (NNₑ) for test set: 76.57328796386719\n"
     ]
    }
   ],
   "source": [
    "# Print results\n",
    "print(f\"Mean prediction for test set: {np.mean(bootstrap_mean_preds_test)}\")\n",
    "print(f\"Estimated noise variance (NNₑ) for test set: {np.mean(predicted_variance_test)}\")"
   ]
  }
 ],
 "metadata": {
  "kernelspec": {
   "display_name": "Python (tfp_for_TN)",
   "language": "python",
   "name": "tfp_for_tn"
  },
  "language_info": {
   "codemirror_mode": {
    "name": "ipython",
    "version": 3
   },
   "file_extension": ".py",
   "mimetype": "text/x-python",
   "name": "python",
   "nbconvert_exporter": "python",
   "pygments_lexer": "ipython3",
   "version": "3.10.14"
  }
 },
 "nbformat": 4,
 "nbformat_minor": 5
}
