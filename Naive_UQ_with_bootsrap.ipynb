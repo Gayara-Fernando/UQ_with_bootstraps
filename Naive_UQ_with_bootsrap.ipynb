{
 "cells": [
  {
   "cell_type": "markdown",
   "id": "92a76067-7bd7-4139-9866-38639b2599e6",
   "metadata": {},
   "source": [
    "Implementing uncertainty quantification with bootstrapping on a toy dataset"
   ]
  },
  {
   "cell_type": "code",
   "execution_count": 1,
   "id": "685b04a3-b9a3-475a-b151-6e8f20b787b6",
   "metadata": {},
   "outputs": [
    {
     "name": "stderr",
     "output_type": "stream",
     "text": [
      "2025-03-13 13:51:10.509076: I tensorflow/core/util/port.cc:113] oneDNN custom operations are on. You may see slightly different numerical results due to floating-point round-off errors from different computation orders. To turn them off, set the environment variable `TF_ENABLE_ONEDNN_OPTS=0`.\n",
      "2025-03-13 13:51:11.703224: E external/local_xla/xla/stream_executor/cuda/cuda_dnn.cc:9261] Unable to register cuDNN factory: Attempting to register factory for plugin cuDNN when one has already been registered\n",
      "2025-03-13 13:51:11.703280: E external/local_xla/xla/stream_executor/cuda/cuda_fft.cc:607] Unable to register cuFFT factory: Attempting to register factory for plugin cuFFT when one has already been registered\n",
      "2025-03-13 13:51:11.921554: E external/local_xla/xla/stream_executor/cuda/cuda_blas.cc:1515] Unable to register cuBLAS factory: Attempting to register factory for plugin cuBLAS when one has already been registered\n",
      "2025-03-13 13:51:12.330135: I tensorflow/core/platform/cpu_feature_guard.cc:182] This TensorFlow binary is optimized to use available CPU instructions in performance-critical operations.\n",
      "To enable the following instructions: SSE4.1 SSE4.2 AVX AVX2 AVX512F AVX512_VNNI FMA, in other operations, rebuild TensorFlow with the appropriate compiler flags.\n"
     ]
    }
   ],
   "source": [
    "import numpy as np\n",
    "import pandas as pd\n",
    "import os\n",
    "import tensorflow as tf\n",
    "from sklearn.model_selection import train_test_split"
   ]
  },
  {
   "cell_type": "code",
   "execution_count": 2,
   "id": "d67ade8b-1bdd-4305-a3b3-dee1f3bd23d4",
   "metadata": {},
   "outputs": [
    {
     "data": {
      "text/plain": [
       "[PhysicalDevice(name='/physical_device:GPU:0', device_type='GPU')]"
      ]
     },
     "execution_count": 2,
     "metadata": {},
     "output_type": "execute_result"
    }
   ],
   "source": [
    "# check GPU availability\n",
    "tf.config.list_physical_devices(\"GPU\")"
   ]
  },
  {
   "cell_type": "code",
   "execution_count": 3,
   "id": "c61f336c-b3e5-48b8-b119-e91039357f46",
   "metadata": {},
   "outputs": [],
   "source": [
    "# Set random seed for reproducibility\n",
    "np.random.seed(21)\n",
    "tf.random.set_seed(21)"
   ]
  },
  {
   "cell_type": "code",
   "execution_count": 4,
   "id": "9d5023cb-ed04-4f83-84d0-be25973baf81",
   "metadata": {},
   "outputs": [],
   "source": [
    "# Step 1: Generate random data\n",
    "n_samples = 1000\n",
    "n_features = 10"
   ]
  },
  {
   "cell_type": "code",
   "execution_count": 5,
   "id": "08106efd-1044-4c86-8ec7-a0de68429bcc",
   "metadata": {},
   "outputs": [],
   "source": [
    "# Generate random input features (X) and output (y)\n",
    "X = np.random.randn(n_samples, n_features)\n",
    "y = 2 * np.sum(X, axis=1) + np.random.randn(n_samples)  # Simple linear relation + noise"
   ]
  },
  {
   "cell_type": "code",
   "execution_count": 6,
   "id": "eda02e8b-0ee5-479f-a325-7c54c4856262",
   "metadata": {},
   "outputs": [
    {
     "data": {
      "text/plain": [
       "((1000, 10), (1000,))"
      ]
     },
     "execution_count": 6,
     "metadata": {},
     "output_type": "execute_result"
    }
   ],
   "source": [
    "X.shape, y.shape"
   ]
  },
  {
   "cell_type": "code",
   "execution_count": 7,
   "id": "5bb2b1bb-4e21-49fb-a069-17bbe9d1a571",
   "metadata": {},
   "outputs": [],
   "source": [
    "# Split the data into training, validation, and test sets (80% train, 10% validation, 10% test)\n",
    "X_train, X_temp, y_train, y_temp = train_test_split(X, y, test_size=0.2, random_state=42)\n",
    "X_val, X_test, y_val, y_test = train_test_split(X_temp, y_temp, test_size=0.5, random_state=42)"
   ]
  },
  {
   "cell_type": "code",
   "execution_count": 8,
   "id": "a271e3c2-b375-431f-bd98-d87184fa8989",
   "metadata": {},
   "outputs": [
    {
     "data": {
      "text/plain": [
       "((800, 10), (800,), (100, 10), (100,), (100, 10), (100,))"
      ]
     },
     "execution_count": 8,
     "metadata": {},
     "output_type": "execute_result"
    }
   ],
   "source": [
    "X_train.shape, y_train.shape, X_val.shape, y_val.shape, X_test.shape, y_test.shape"
   ]
  },
  {
   "cell_type": "code",
   "execution_count": 9,
   "id": "e7d2ef5a-11ad-424e-8124-cb204614d4f2",
   "metadata": {},
   "outputs": [],
   "source": [
    "# Step 2: Define a simple fully connected neural network for Phase I (bootstrap models)\n",
    "def create_bootstrap_nn(input_shape):\n",
    "    model = tf.keras.models.Sequential([\n",
    "        tf.keras.layers.InputLayer(input_shape=input_shape),\n",
    "        tf.keras.layers.Dense(64, activation='relu'),\n",
    "        tf.keras.layers.Dense(32, activation='relu'),\n",
    "        tf.keras.layers.Dense(1)  # Output layer for regression\n",
    "    ])\n",
    "    model.compile(optimizer='adam', loss='mse')\n",
    "    return model"
   ]
  },
  {
   "cell_type": "code",
   "execution_count": 10,
   "id": "dd4762cc-6903-4de0-82c6-fc69927a53b4",
   "metadata": {},
   "outputs": [],
   "source": [
    "# Step 3: Define the noise variance estimation network (Phase II)\n",
    "def create_noise_variance_nn(input_shape):\n",
    "    model = tf.keras.models.Sequential([\n",
    "        tf.keras.layers.InputLayer(input_shape=input_shape),\n",
    "        tf.keras.layers.Dense(64, activation='relu'),\n",
    "        tf.keras.layers.Dense(32, activation='relu'),\n",
    "        tf.keras.layers.Dense(1)  # Output layer for variance prediction\n",
    "    ])\n",
    "    model.compile(optimizer='adam', loss='mse')\n",
    "    return model"
   ]
  },
  {
   "cell_type": "code",
   "execution_count": 11,
   "id": "3a2d60fc-95bd-4cd1-9ad6-9ed9723448b9",
   "metadata": {},
   "outputs": [],
   "source": [
    "# I think upto this moment it's clear, the only thing is for the second network, it is not using the correct loss function which is based on the MLE, and we need to adjust that. Let's figure out in the below code blocks if this is computing the r_2 values for the secnd network correctly."
   ]
  },
  {
   "cell_type": "code",
   "execution_count": 12,
   "id": "6e06aab8-77df-4b5a-ae64-0a8ed65bde70",
   "metadata": {},
   "outputs": [],
   "source": [
    "# careful attention to this function, is this doing teh correct thing?"
   ]
  },
  {
   "cell_type": "code",
   "execution_count": 13,
   "id": "fe8abfee-9b95-49d7-a535-5e9bc756fcb9",
   "metadata": {},
   "outputs": [
    {
     "data": {
      "text/plain": [
       "(10,)"
      ]
     },
     "execution_count": 13,
     "metadata": {},
     "output_type": "execute_result"
    }
   ],
   "source": [
    "X_train.shape[1:]"
   ]
  },
  {
   "cell_type": "code",
   "execution_count": 14,
   "id": "d57b0d5a-d962-4a35-b1a4-4bb1768969e7",
   "metadata": {},
   "outputs": [],
   "source": [
    "# Step 4: Train bootstrap neural networks (Phase I)\n",
    "def train_bootstrap_nns(X_train, y_train, B=10):\n",
    "    bootstrap_models = []\n",
    "    bootstrap_predictions = []\n",
    "\n",
    "    # Generate B bootstrap samples and train models\n",
    "    for _ in range(B):\n",
    "        # Create a bootstrap sample by sampling with replacement\n",
    "        indices = np.random.choice(len(X_train), size=len(X_train), replace=True)\n",
    "        X_bootstrap = X_train[indices]\n",
    "        y_bootstrap = y_train[indices]\n",
    "\n",
    "        # Create and train a new model\n",
    "        model = create_bootstrap_nn(X_train.shape[1:])\n",
    "        model.fit(X_bootstrap, y_bootstrap, epochs=50, batch_size=32, verbose = 0)\n",
    "        bootstrap_models.append(model)\n",
    "\n",
    "        # Store predictions on the original training data\n",
    "        predictions = model.predict(X_train)\n",
    "        bootstrap_predictions.append(predictions)\n",
    "\n",
    "    return bootstrap_models, np.array(bootstrap_predictions)"
   ]
  },
  {
   "cell_type": "code",
   "execution_count": 15,
   "id": "126a6a01-02d7-4f81-b382-3e8b029766dd",
   "metadata": {},
   "outputs": [],
   "source": [
    "# The function does the bootstraps, and save both the models from the bootstraps - for future, for the test set evaluations, and the predictions for the train set as those are necessary for the second network"
   ]
  },
  {
   "cell_type": "code",
   "execution_count": 16,
   "id": "30df00b4-7c27-40d6-a04a-1c5a920cafd2",
   "metadata": {},
   "outputs": [],
   "source": [
    "# Okay, now need to verify if the model variance that is computed straight away using np.var and the one specified in the paper by equation 6 are the same thing. If they are, then most of the problems in the code here are solved."
   ]
  },
  {
   "cell_type": "code",
   "execution_count": 17,
   "id": "699aeabb-8b8f-4659-88c9-484f51214a38",
   "metadata": {},
   "outputs": [
    {
     "name": "stderr",
     "output_type": "stream",
     "text": [
      "2025-03-13 13:52:13.823538: I tensorflow/core/common_runtime/gpu/gpu_device.cc:1929] Created device /job:localhost/replica:0/task:0/device:GPU:0 with 31134 MB memory:  -> device: 0, name: Tesla V100S-PCIE-32GB, pci bus id: 0000:86:00.0, compute capability: 7.0\n",
      "2025-03-13 13:52:19.152899: I external/local_xla/xla/service/service.cc:168] XLA service 0x154d79b81bd0 initialized for platform CUDA (this does not guarantee that XLA will be used). Devices:\n",
      "2025-03-13 13:52:19.152934: I external/local_xla/xla/service/service.cc:176]   StreamExecutor device (0): Tesla V100S-PCIE-32GB, Compute Capability 7.0\n",
      "2025-03-13 13:52:19.259245: I tensorflow/compiler/mlir/tensorflow/utils/dump_mlir_util.cc:269] disabling MLIR crash reproducer, set env var `MLIR_CRASH_REPRODUCER_DIRECTORY` to enable.\n",
      "2025-03-13 13:52:19.720663: I external/local_xla/xla/stream_executor/cuda/cuda_dnn.cc:454] Loaded cuDNN version 8907\n",
      "WARNING: All log messages before absl::InitializeLog() is called are written to STDERR\n",
      "I0000 00:00:1741891940.221365  199983 device_compiler.h:186] Compiled cluster using XLA!  This line is logged at most once for the lifetime of the process.\n"
     ]
    },
    {
     "name": "stdout",
     "output_type": "stream",
     "text": [
      "25/25 [==============================] - 0s 978us/step\n",
      "25/25 [==============================] - 0s 949us/step\n",
      "25/25 [==============================] - 0s 1ms/step\n",
      "25/25 [==============================] - 0s 954us/step\n",
      "25/25 [==============================] - 0s 1ms/step\n",
      "25/25 [==============================] - 0s 952us/step\n",
      "25/25 [==============================] - 0s 1ms/step\n",
      "25/25 [==============================] - 0s 952us/step\n",
      "25/25 [==============================] - 0s 931us/step\n",
      "25/25 [==============================] - 0s 998us/step\n"
     ]
    }
   ],
   "source": [
    "# Step 6: Train the models\n",
    "# Train the bootstrap models (Phase I)\n",
    "bootstrap_models, bootstrap_predictions = train_bootstrap_nns(X_train, y_train, B=10)"
   ]
  },
  {
   "cell_type": "code",
   "execution_count": 18,
   "id": "e939b840-f306-4826-bae0-19f92854e474",
   "metadata": {},
   "outputs": [],
   "source": [
    "# variances all at once\n",
    "all_vars_at_once = np.var(bootstrap_predictions, axis = 0, ddof = 1)"
   ]
  },
  {
   "cell_type": "code",
   "execution_count": 19,
   "id": "67eeb218-0db0-4ee3-a72a-bcf0ca905285",
   "metadata": {},
   "outputs": [
    {
     "data": {
      "text/plain": [
       "(800, 1)"
      ]
     },
     "execution_count": 19,
     "metadata": {},
     "output_type": "execute_result"
    }
   ],
   "source": [
    "all_vars_at_once.shape"
   ]
  },
  {
   "cell_type": "code",
   "execution_count": 20,
   "id": "6f59621e-7315-4b71-ba97-d9f9131d4189",
   "metadata": {},
   "outputs": [],
   "source": [
    "# all_vars_at_once"
   ]
  },
  {
   "cell_type": "code",
   "execution_count": 21,
   "id": "f8eef3fa-f25c-49e9-8c42-f2118690129d",
   "metadata": {},
   "outputs": [
    {
     "data": {
      "text/plain": [
       "(10, 800, 1)"
      ]
     },
     "execution_count": 21,
     "metadata": {},
     "output_type": "execute_result"
    }
   ],
   "source": [
    "bootstrap_predictions.shape"
   ]
  },
  {
   "cell_type": "code",
   "execution_count": 22,
   "id": "5e0c50dc-e22a-49f3-ae70-843e009b8b6c",
   "metadata": {},
   "outputs": [],
   "source": [
    "# function to get the variances according to the equation 6 in the paper\n",
    "def equation_6_model_variance(all_preds):\n",
    "    all_vars = []\n",
    "    for i in range(all_preds.shape[1]):\n",
    "        var = (1/(all_preds.shape[0]  - 1))*np.sum(np.square(all_preds[:,i,:] - np.mean(all_preds[:,i,:])))\n",
    "        all_vars.append(var)\n",
    "\n",
    "    return np.array(all_vars)   "
   ]
  },
  {
   "cell_type": "code",
   "execution_count": 23,
   "id": "ce10a973-11ff-4d2c-90a6-e4e94e6a94e4",
   "metadata": {},
   "outputs": [],
   "source": [
    "# alternate function from GPT\n",
    "def equation_6_model_variance_alt(all_preds):\n",
    "    all_vars = []\n",
    "    for i in range(all_preds.shape[1]):  # Looping through the bootstrap models\n",
    "        # Calculate the variance using the correct formula with n - 1\n",
    "        var = np.sum(np.square(all_preds[:, i, :] - np.mean(all_preds[:, i, :], axis=0)), axis=0) / (all_preds.shape[0] - 1)\n",
    "        all_vars.append(var)\n",
    "\n",
    "    return np.array(all_vars)"
   ]
  },
  {
   "cell_type": "code",
   "execution_count": 24,
   "id": "be623469-137b-4ac9-ab8a-df8ff7b28008",
   "metadata": {},
   "outputs": [],
   "source": [
    "# Note that this is the model variance\n",
    "all_vars_eq_6 = equation_6_model_variance(bootstrap_predictions)"
   ]
  },
  {
   "cell_type": "code",
   "execution_count": 25,
   "id": "2c9f3a9e-afc7-408b-966f-627789accb64",
   "metadata": {},
   "outputs": [
    {
     "data": {
      "text/plain": [
       "(800,)"
      ]
     },
     "execution_count": 25,
     "metadata": {},
     "output_type": "execute_result"
    }
   ],
   "source": [
    "all_vars_eq_6.shape"
   ]
  },
  {
   "cell_type": "code",
   "execution_count": 26,
   "id": "7df86386-95e5-44a6-aefd-48ec264b459f",
   "metadata": {},
   "outputs": [],
   "source": [
    "all_vars_eq_6_alt = equation_6_model_variance_alt(bootstrap_predictions)"
   ]
  },
  {
   "cell_type": "code",
   "execution_count": 27,
   "id": "a873559e-86f7-4de0-8681-b6de836c7988",
   "metadata": {},
   "outputs": [
    {
     "data": {
      "text/plain": [
       "(800, 1)"
      ]
     },
     "execution_count": 27,
     "metadata": {},
     "output_type": "execute_result"
    }
   ],
   "source": [
    "all_vars_eq_6_alt.shape"
   ]
  },
  {
   "cell_type": "code",
   "execution_count": 28,
   "id": "9fdc4bf7-5579-430b-aec3-97bf16994b2b",
   "metadata": {},
   "outputs": [
    {
     "data": {
      "text/plain": [
       "0.00125"
      ]
     },
     "execution_count": 28,
     "metadata": {},
     "output_type": "execute_result"
    }
   ],
   "source": [
    "np.mean(np.round(all_vars_eq_6, 4) == np.round(all_vars_eq_6_alt.flatten(),4))"
   ]
  },
  {
   "cell_type": "code",
   "execution_count": 29,
   "id": "b0c7dbbf-a133-410f-afe7-7a7a849fcce2",
   "metadata": {},
   "outputs": [
    {
     "data": {
      "text/plain": [
       "(0.2725, 0.2725)"
      ]
     },
     "execution_count": 29,
     "metadata": {},
     "output_type": "execute_result"
    }
   ],
   "source": [
    "np.round(all_vars_eq_6_alt.flatten(), 4)[750], np.round(all_vars_eq_6, 4)[750]"
   ]
  },
  {
   "cell_type": "code",
   "execution_count": 30,
   "id": "1bb714e7-578a-48ac-80d7-f6b85d22cec9",
   "metadata": {},
   "outputs": [],
   "source": [
    "array_1 = np.round(all_vars_eq_6_alt.flatten(), 4)\n",
    "array_2 = np.round(all_vars_eq_6, 4)"
   ]
  },
  {
   "cell_type": "code",
   "execution_count": 31,
   "id": "fdfc0e82-2648-4cf7-9cd9-60d3c12195d6",
   "metadata": {},
   "outputs": [],
   "source": [
    "# For some reason, these arrays are not equal, but they should be"
   ]
  },
  {
   "cell_type": "code",
   "execution_count": 32,
   "id": "d06643c8-2dc6-4b4d-8715-f4cb37cb79b2",
   "metadata": {},
   "outputs": [],
   "source": [
    "# Okay, found the discripancy, in finding the variance with np.var, the division is with B and not with B-1 - Therefore, we need to have this custom equation in order to get the correct variance associated with the bootstrapped values. "
   ]
  },
  {
   "cell_type": "code",
   "execution_count": 33,
   "id": "9c9298a0-fb25-447b-a0be-afda2b9d5d92",
   "metadata": {},
   "outputs": [],
   "source": [
    "# Okay, now we need to find a way to include this variance inside the work that we are doing"
   ]
  },
  {
   "cell_type": "code",
   "execution_count": 34,
   "id": "cb643558-c62f-411b-a1be-d82d036f36a3",
   "metadata": {},
   "outputs": [],
   "source": [
    "# Step 5: Phase II - Train the noise variance estimation network (NNₑ)\n",
    "def compute_r_squared(y_true, y_pred, model_variance):\n",
    "    # reshape the predictions to (800,) as they are of shape (800,1)\n",
    "    y_pred = np.squeeze(y_pred)\n",
    "    residuals = (y_true - y_pred) ** 2 - model_variance\n",
    "    return np.maximum(residuals, 0)"
   ]
  },
  {
   "cell_type": "code",
   "execution_count": 35,
   "id": "c9379c07-a213-452a-8f8e-87c4950c6e1a",
   "metadata": {},
   "outputs": [
    {
     "data": {
      "text/plain": [
       "(800,)"
      ]
     },
     "execution_count": 35,
     "metadata": {},
     "output_type": "execute_result"
    }
   ],
   "source": [
    "np.squeeze(bootstrap_predictions[0]).shape"
   ]
  },
  {
   "cell_type": "code",
   "execution_count": 36,
   "id": "7fbac85d-a25f-4f82-b6f9-83caabf44b74",
   "metadata": {},
   "outputs": [],
   "source": [
    "# np.squeeze(np.mean(bootstrap_predictions, axis = 0))"
   ]
  },
  {
   "cell_type": "code",
   "execution_count": 37,
   "id": "044f3ed2-24a3-477b-b507-bc28f341bf75",
   "metadata": {},
   "outputs": [],
   "source": [
    "# Edit the function to include the correct model misspecification varaince\n",
    "def train_noise_variance_nn(X_train, y_train, bootstrap_predictions, model_variance):\n",
    "    # mean of bootstrap values\n",
    "    bootstrap_mean_predictions = np.squeeze(np.mean(bootstrap_predictions, axis = 0))\n",
    "    # residuals\n",
    "    mean_residuals = compute_r_squared(y_train, bootstrap_mean_predictions, model_variance)  # Averaging residuals across bootstrap models\n",
    "\n",
    "    # Create and train the NNₑ for noise variance estimation\n",
    "    nn_e = create_noise_variance_nn(X_train.shape[1:])\n",
    "    nn_e.fit(X_train, mean_residuals, epochs=50, batch_size=32)\n",
    "\n",
    "    return nn_e"
   ]
  },
  {
   "cell_type": "code",
   "execution_count": 38,
   "id": "057e6608-d38b-441f-85fa-77a9f1dcb585",
   "metadata": {
    "scrolled": true
   },
   "outputs": [
    {
     "name": "stdout",
     "output_type": "stream",
     "text": [
      "Epoch 1/50\n",
      "25/25 [==============================] - 1s 2ms/step - loss: 1.1923\n",
      "Epoch 2/50\n",
      "25/25 [==============================] - 0s 3ms/step - loss: 1.1175\n",
      "Epoch 3/50\n",
      "25/25 [==============================] - 0s 3ms/step - loss: 1.0896\n",
      "Epoch 4/50\n",
      "25/25 [==============================] - 0s 3ms/step - loss: 1.0678\n",
      "Epoch 5/50\n",
      "25/25 [==============================] - 0s 3ms/step - loss: 1.0502\n",
      "Epoch 6/50\n",
      "25/25 [==============================] - 0s 3ms/step - loss: 1.0341\n",
      "Epoch 7/50\n",
      "25/25 [==============================] - 0s 3ms/step - loss: 1.0196\n",
      "Epoch 8/50\n",
      "25/25 [==============================] - 0s 3ms/step - loss: 1.0055\n",
      "Epoch 9/50\n",
      "25/25 [==============================] - 0s 3ms/step - loss: 0.9908\n",
      "Epoch 10/50\n",
      "25/25 [==============================] - 0s 3ms/step - loss: 0.9813\n",
      "Epoch 11/50\n",
      "25/25 [==============================] - 0s 3ms/step - loss: 0.9660\n",
      "Epoch 12/50\n",
      "25/25 [==============================] - 0s 3ms/step - loss: 0.9525\n",
      "Epoch 13/50\n",
      "25/25 [==============================] - 0s 3ms/step - loss: 0.9322\n",
      "Epoch 14/50\n",
      "25/25 [==============================] - 0s 3ms/step - loss: 0.9241\n",
      "Epoch 15/50\n",
      "25/25 [==============================] - 0s 3ms/step - loss: 0.9161\n",
      "Epoch 16/50\n",
      "25/25 [==============================] - 0s 3ms/step - loss: 0.8958\n",
      "Epoch 17/50\n",
      "25/25 [==============================] - 0s 3ms/step - loss: 0.8800\n",
      "Epoch 18/50\n",
      "25/25 [==============================] - 0s 3ms/step - loss: 0.8727\n",
      "Epoch 19/50\n",
      "25/25 [==============================] - 0s 3ms/step - loss: 0.8603\n",
      "Epoch 20/50\n",
      "25/25 [==============================] - 0s 3ms/step - loss: 0.8433\n",
      "Epoch 21/50\n",
      "25/25 [==============================] - 0s 3ms/step - loss: 0.8283\n",
      "Epoch 22/50\n",
      "25/25 [==============================] - 0s 3ms/step - loss: 0.8198\n",
      "Epoch 23/50\n",
      "25/25 [==============================] - 0s 3ms/step - loss: 0.8034\n",
      "Epoch 24/50\n",
      "25/25 [==============================] - 0s 3ms/step - loss: 0.7932\n",
      "Epoch 25/50\n",
      "25/25 [==============================] - 0s 2ms/step - loss: 0.7782\n",
      "Epoch 26/50\n",
      "25/25 [==============================] - 0s 2ms/step - loss: 0.7657\n",
      "Epoch 27/50\n",
      "25/25 [==============================] - 0s 2ms/step - loss: 0.7528\n",
      "Epoch 28/50\n",
      "25/25 [==============================] - 0s 2ms/step - loss: 0.7429\n",
      "Epoch 29/50\n",
      "25/25 [==============================] - 0s 2ms/step - loss: 0.7262\n",
      "Epoch 30/50\n",
      "25/25 [==============================] - 0s 2ms/step - loss: 0.7148\n",
      "Epoch 31/50\n",
      "25/25 [==============================] - 0s 2ms/step - loss: 0.7038\n",
      "Epoch 32/50\n",
      "25/25 [==============================] - 0s 2ms/step - loss: 0.6861\n",
      "Epoch 33/50\n",
      "25/25 [==============================] - 0s 2ms/step - loss: 0.6751\n",
      "Epoch 34/50\n",
      "25/25 [==============================] - 0s 2ms/step - loss: 0.6664\n",
      "Epoch 35/50\n",
      "25/25 [==============================] - 0s 3ms/step - loss: 0.6653\n",
      "Epoch 36/50\n",
      "25/25 [==============================] - 0s 3ms/step - loss: 0.6571\n",
      "Epoch 37/50\n",
      "25/25 [==============================] - 0s 3ms/step - loss: 0.6344\n",
      "Epoch 38/50\n",
      "25/25 [==============================] - 0s 3ms/step - loss: 0.6201\n",
      "Epoch 39/50\n",
      "25/25 [==============================] - 0s 2ms/step - loss: 0.6096\n",
      "Epoch 40/50\n",
      "25/25 [==============================] - 0s 2ms/step - loss: 0.5997\n",
      "Epoch 41/50\n",
      "25/25 [==============================] - 0s 3ms/step - loss: 0.5866\n",
      "Epoch 42/50\n",
      "25/25 [==============================] - 0s 3ms/step - loss: 0.5831\n",
      "Epoch 43/50\n",
      "25/25 [==============================] - 0s 3ms/step - loss: 0.5647\n",
      "Epoch 44/50\n",
      "25/25 [==============================] - 0s 3ms/step - loss: 0.5701\n",
      "Epoch 45/50\n",
      "25/25 [==============================] - 0s 2ms/step - loss: 0.5431\n",
      "Epoch 46/50\n",
      "25/25 [==============================] - 0s 2ms/step - loss: 0.5381\n",
      "Epoch 47/50\n",
      "25/25 [==============================] - 0s 2ms/step - loss: 0.5263\n",
      "Epoch 48/50\n",
      "25/25 [==============================] - 0s 2ms/step - loss: 0.5148\n",
      "Epoch 49/50\n",
      "25/25 [==============================] - 0s 2ms/step - loss: 0.5064\n",
      "Epoch 50/50\n",
      "25/25 [==============================] - 0s 2ms/step - loss: 0.4954\n"
     ]
    }
   ],
   "source": [
    "# Train the noise variance estimation model (Phase II)\n",
    "nn_e = train_noise_variance_nn(X_train, y_train, bootstrap_predictions, all_vars_eq_6)"
   ]
  },
  {
   "cell_type": "code",
   "execution_count": 39,
   "id": "34871fea-c6c9-470b-85c7-fea78da494d7",
   "metadata": {},
   "outputs": [
    {
     "name": "stdout",
     "output_type": "stream",
     "text": [
      "4/4 [==============================] - 0s 22ms/step\n",
      "4/4 [==============================] - 0s 1ms/step\n",
      "4/4 [==============================] - 0s 1ms/step\n",
      "4/4 [==============================] - 0s 1ms/step\n",
      "4/4 [==============================] - 0s 2ms/step\n",
      "4/4 [==============================] - 0s 1ms/step\n",
      "4/4 [==============================] - 0s 1ms/step\n",
      "4/4 [==============================] - 0s 1ms/step\n",
      "4/4 [==============================] - 0s 1ms/step\n",
      "4/4 [==============================] - 0s 2ms/step\n"
     ]
    }
   ],
   "source": [
    "# Step 7: Evaluate the models on the test set\n",
    "# Make predictions with the bootstrap models\n",
    "bootstrap_preds_test = np.array([model.predict(X_test) for model in bootstrap_models])"
   ]
  },
  {
   "cell_type": "code",
   "execution_count": 40,
   "id": "2dfa6071-7da6-4dec-9fc8-a33984e66cdf",
   "metadata": {},
   "outputs": [
    {
     "data": {
      "text/plain": [
       "(10, 100, 1)"
      ]
     },
     "execution_count": 40,
     "metadata": {},
     "output_type": "execute_result"
    }
   ],
   "source": [
    "bootstrap_preds_test.shape"
   ]
  },
  {
   "cell_type": "code",
   "execution_count": 41,
   "id": "69aa033d-11ad-4433-b1d2-aba923f5ac54",
   "metadata": {},
   "outputs": [],
   "source": [
    "# Calculate the mean prediction across all bootstrap models\n",
    "bootstrap_mean_preds_test = np.mean(bootstrap_preds_test, axis=0)"
   ]
  },
  {
   "cell_type": "code",
   "execution_count": 42,
   "id": "adf5ffea-317b-4b30-b0a2-cab4ae4a041c",
   "metadata": {},
   "outputs": [
    {
     "data": {
      "text/plain": [
       "(100, 1)"
      ]
     },
     "execution_count": 42,
     "metadata": {},
     "output_type": "execute_result"
    }
   ],
   "source": [
    "bootstrap_mean_preds_test.shape"
   ]
  },
  {
   "cell_type": "code",
   "execution_count": 43,
   "id": "c8e2104f-066a-43a1-be03-2a5be81bbf8f",
   "metadata": {},
   "outputs": [
    {
     "name": "stdout",
     "output_type": "stream",
     "text": [
      "4/4 [==============================] - 0s 1ms/step\n"
     ]
    }
   ],
   "source": [
    "# Estimate the noise variance using NNₑ\n",
    "predicted_variance_test = nn_e.predict(X_test)"
   ]
  },
  {
   "cell_type": "code",
   "execution_count": 44,
   "id": "92b6b3ea-34fa-4bf1-8768-988f499a5f5e",
   "metadata": {},
   "outputs": [
    {
     "data": {
      "text/plain": [
       "(100, 1)"
      ]
     },
     "execution_count": 44,
     "metadata": {},
     "output_type": "execute_result"
    }
   ],
   "source": [
    "predicted_variance_test.shape"
   ]
  },
  {
   "cell_type": "code",
   "execution_count": 45,
   "id": "5428a2d4-3e3a-4ad9-999c-b2c7ab5a7452",
   "metadata": {},
   "outputs": [
    {
     "name": "stdout",
     "output_type": "stream",
     "text": [
      "Mean prediction for test set: -0.166385218501091\n",
      "Estimated noise variance (NNₑ) for test set: 0.5804854035377502\n"
     ]
    }
   ],
   "source": [
    "# Print results\n",
    "print(f\"Mean prediction for test set: {np.mean(bootstrap_mean_preds_test)}\")\n",
    "print(f\"Estimated noise variance (NNₑ) for test set: {np.mean(predicted_variance_test)}\")"
   ]
  },
  {
   "cell_type": "markdown",
   "id": "db70a07b-d0b2-4cb6-9091-1c135307e6ed",
   "metadata": {},
   "source": [
    "But, notice that this method has a mishap. We need to use the loss with MLE for the second NN for the error variance, but this model is still using the same loss (mse) as the NN used for the bootsraps. We will look at this stpe in the next notbeook."
   ]
  }
 ],
 "metadata": {
  "kernelspec": {
   "display_name": "Python (tfp_for_TN)",
   "language": "python",
   "name": "tfp_for_tn"
  },
  "language_info": {
   "codemirror_mode": {
    "name": "ipython",
    "version": 3
   },
   "file_extension": ".py",
   "mimetype": "text/x-python",
   "name": "python",
   "nbconvert_exporter": "python",
   "pygments_lexer": "ipython3",
   "version": "3.10.14"
  }
 },
 "nbformat": 4,
 "nbformat_minor": 5
}
