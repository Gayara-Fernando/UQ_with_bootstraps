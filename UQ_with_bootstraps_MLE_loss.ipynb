{
 "cells": [
  {
   "cell_type": "markdown",
   "id": "57d15c78-be3b-4016-826e-32246172c6c7",
   "metadata": {},
   "source": [
    "Okay, here we are introducing the new custom loss function, which is the MLE. We need this to work before we proceed to the work with DeepCDR. The current custom loss we have over here are not working, so we may have to work on getting the loss function to accurately work. We may also need to adjust things like the computation of the r_square_values, as the previous code was not correctly computing these quantities."
   ]
  },
  {
   "cell_type": "code",
   "execution_count": 1,
   "id": "69ee8190-fbe5-482f-9ed8-84e69abbe268",
   "metadata": {},
   "outputs": [
    {
     "name": "stderr",
     "output_type": "stream",
     "text": [
      "2025-03-17 10:23:43.899903: I tensorflow/core/util/port.cc:113] oneDNN custom operations are on. You may see slightly different numerical results due to floating-point round-off errors from different computation orders. To turn them off, set the environment variable `TF_ENABLE_ONEDNN_OPTS=0`.\n",
      "2025-03-17 10:23:44.227556: E external/local_xla/xla/stream_executor/cuda/cuda_dnn.cc:9261] Unable to register cuDNN factory: Attempting to register factory for plugin cuDNN when one has already been registered\n",
      "2025-03-17 10:23:44.227621: E external/local_xla/xla/stream_executor/cuda/cuda_fft.cc:607] Unable to register cuFFT factory: Attempting to register factory for plugin cuFFT when one has already been registered\n",
      "2025-03-17 10:23:44.305203: E external/local_xla/xla/stream_executor/cuda/cuda_blas.cc:1515] Unable to register cuBLAS factory: Attempting to register factory for plugin cuBLAS when one has already been registered\n",
      "2025-03-17 10:23:44.421303: I tensorflow/core/platform/cpu_feature_guard.cc:182] This TensorFlow binary is optimized to use available CPU instructions in performance-critical operations.\n",
      "To enable the following instructions: SSE4.1 SSE4.2 AVX AVX2 AVX512F AVX512_VNNI FMA, in other operations, rebuild TensorFlow with the appropriate compiler flags.\n"
     ]
    }
   ],
   "source": [
    "import numpy as np\n",
    "import tensorflow as tf\n",
    "import os\n",
    "from sklearn.model_selection import train_test_split"
   ]
  },
  {
   "cell_type": "code",
   "execution_count": 2,
   "id": "a69e2697-5d14-4e7d-96eb-ff7a9667650b",
   "metadata": {},
   "outputs": [],
   "source": [
    "# Set random seed for reproducibility\n",
    "np.random.seed(42)\n",
    "tf.random.set_seed(42)"
   ]
  },
  {
   "cell_type": "code",
   "execution_count": 3,
   "id": "a01183d1-378e-4df1-a352-a4289a0436fe",
   "metadata": {},
   "outputs": [],
   "source": [
    "# Step 1: Generate random data (10 features, 1 output)\n",
    "n_samples = 1000\n",
    "n_features = 10"
   ]
  },
  {
   "cell_type": "code",
   "execution_count": 4,
   "id": "51bb562d-e6db-4412-9a04-02e54ce106f4",
   "metadata": {},
   "outputs": [],
   "source": [
    "# Generate random input features (X) and output (y)\n",
    "X = np.random.randn(n_samples, n_features)\n",
    "y = 2 * np.sum(X, axis=1) + np.random.randn(n_samples)  # Simple linear relation + noise\n",
    "\n",
    "# Split the data into training, validation, and test sets (80% train, 10% validation, 10% test)\n",
    "X_train, X_temp, y_train, y_temp = train_test_split(X, y, test_size=0.2, random_state=42)\n",
    "X_val, X_test, y_val, y_test = train_test_split(X_temp, y_temp, test_size=0.5, random_state=42)"
   ]
  },
  {
   "cell_type": "code",
   "execution_count": 5,
   "id": "b283cce5-8683-4312-8cb2-b68130c3aaff",
   "metadata": {},
   "outputs": [],
   "source": [
    "# Step 2: Define a simple fully connected neural network for Phase I (bootstrap models)\n",
    "def create_bootstrap_nn(input_shape):\n",
    "    model = tf.keras.models.Sequential([\n",
    "        tf.keras.layers.InputLayer(input_shape=input_shape),\n",
    "        tf.keras.layers.Dense(64, activation='relu'),\n",
    "        tf.keras.layers.Dense(32, activation='relu'),\n",
    "        tf.keras.layers.Dense(1)  # Output layer for regression\n",
    "    ])\n",
    "    model.compile(optimizer='adam', loss='mse')\n",
    "    return model"
   ]
  },
  {
   "cell_type": "code",
   "execution_count": 6,
   "id": "1975199c-0e6c-4712-8088-dbdb7d3ac564",
   "metadata": {},
   "outputs": [],
   "source": [
    "# Step 3: Define the noise variance estimation network (Phase II)\n",
    "def create_noise_variance_nn(input_shape):\n",
    "    model = tf.keras.models.Sequential([\n",
    "        tf.keras.layers.InputLayer(input_shape=input_shape),\n",
    "        tf.keras.layers.Dense(64, activation='relu'),\n",
    "        tf.keras.layers.Dense(32, activation='relu'),\n",
    "        tf.keras.layers.Dense(1, activation=tf.keras.activations.exponential)  # Output layer for variance prediction\n",
    "    ])\n",
    "    return model"
   ]
  },
  {
   "cell_type": "code",
   "execution_count": 7,
   "id": "7f9dd34d-ccaa-4a53-93a6-1bdf552630a5",
   "metadata": {},
   "outputs": [],
   "source": [
    "# Step 4: Train bootstrap neural networks (Phase I)\n",
    "def train_bootstrap_nns(X_train, y_train, B=10):\n",
    "    bootstrap_models = []\n",
    "    bootstrap_predictions = []\n",
    "\n",
    "    # Generate B bootstrap samples and train models\n",
    "    for _ in range(B):\n",
    "        # Create a bootstrap sample by sampling with replacement\n",
    "        indices = np.random.choice(len(X_train), size=len(X_train), replace=True)\n",
    "        X_bootstrap = X_train[indices]\n",
    "        y_bootstrap = y_train[indices]\n",
    "\n",
    "        # Create and train a new model\n",
    "        model = create_bootstrap_nn(X_train.shape[1:])\n",
    "        model.fit(X_bootstrap, y_bootstrap, epochs=50, batch_size=32, verbose=0)\n",
    "        bootstrap_models.append(model)\n",
    "\n",
    "        # Store predictions on the original training data\n",
    "        predictions = model.predict(X_train)\n",
    "        bootstrap_predictions.append(predictions)\n",
    "\n",
    "    return bootstrap_models, np.array(bootstrap_predictions)"
   ]
  },
  {
   "cell_type": "code",
   "execution_count": 8,
   "id": "0f2b7acc-b0d7-49a6-9523-6d82792dad47",
   "metadata": {},
   "outputs": [
    {
     "name": "stderr",
     "output_type": "stream",
     "text": [
      "2025-03-17 10:23:58.484429: I tensorflow/core/common_runtime/gpu/gpu_device.cc:1929] Created device /job:localhost/replica:0/task:0/device:GPU:0 with 31134 MB memory:  -> device: 0, name: Tesla V100S-PCIE-32GB, pci bus id: 0000:06:00.0, compute capability: 7.0\n",
      "2025-03-17 10:24:01.405712: I external/local_xla/xla/service/service.cc:168] XLA service 0x1507a1bacc80 initialized for platform CUDA (this does not guarantee that XLA will be used). Devices:\n",
      "2025-03-17 10:24:01.405773: I external/local_xla/xla/service/service.cc:176]   StreamExecutor device (0): Tesla V100S-PCIE-32GB, Compute Capability 7.0\n",
      "2025-03-17 10:24:01.501409: I tensorflow/compiler/mlir/tensorflow/utils/dump_mlir_util.cc:269] disabling MLIR crash reproducer, set env var `MLIR_CRASH_REPRODUCER_DIRECTORY` to enable.\n",
      "2025-03-17 10:24:01.715643: I external/local_xla/xla/stream_executor/cuda/cuda_dnn.cc:454] Loaded cuDNN version 8907\n",
      "WARNING: All log messages before absl::InitializeLog() is called are written to STDERR\n",
      "I0000 00:00:1742225042.079499  513118 device_compiler.h:186] Compiled cluster using XLA!  This line is logged at most once for the lifetime of the process.\n"
     ]
    },
    {
     "name": "stdout",
     "output_type": "stream",
     "text": [
      "25/25 [==============================] - 0s 924us/step\n",
      "25/25 [==============================] - 0s 1ms/step\n",
      "25/25 [==============================] - 0s 1ms/step\n",
      "25/25 [==============================] - 0s 940us/step\n",
      "25/25 [==============================] - 0s 978us/step\n",
      "25/25 [==============================] - 0s 1ms/step\n",
      "25/25 [==============================] - 0s 951us/step\n",
      "25/25 [==============================] - 0s 980us/step\n",
      "25/25 [==============================] - 0s 951us/step\n",
      "25/25 [==============================] - 0s 952us/step\n"
     ]
    }
   ],
   "source": [
    "# Step 7: Train the models\n",
    "# Train the bootstrap models (Phase I)\n",
    "bootstrap_models, bootstrap_predictions = train_bootstrap_nns(X_train, y_train, B=10)"
   ]
  },
  {
   "cell_type": "code",
   "execution_count": 9,
   "id": "8d886d04-641e-442a-ae33-a7df42930ff7",
   "metadata": {},
   "outputs": [
    {
     "data": {
      "text/plain": [
       "(10, 800, 1)"
      ]
     },
     "execution_count": 9,
     "metadata": {},
     "output_type": "execute_result"
    }
   ],
   "source": [
    "bootstrap_predictions.shape"
   ]
  },
  {
   "cell_type": "code",
   "execution_count": 10,
   "id": "c90859d1-91d7-45fa-90d7-a44ad64e098b",
   "metadata": {},
   "outputs": [
    {
     "data": {
      "text/plain": [
       "(800,)"
      ]
     },
     "execution_count": 10,
     "metadata": {},
     "output_type": "execute_result"
    }
   ],
   "source": [
    "np.squeeze(np.mean(bootstrap_predictions, axis = 0)).shape"
   ]
  },
  {
   "cell_type": "code",
   "execution_count": 11,
   "id": "c74dcc4c-5ed9-40ea-81dd-3e3aa3519784",
   "metadata": {},
   "outputs": [],
   "source": [
    "# The shape matches what we had earlier - no issue there"
   ]
  },
  {
   "cell_type": "code",
   "execution_count": 12,
   "id": "afa4e8a3-8830-484b-b15b-9b25fb028df5",
   "metadata": {},
   "outputs": [],
   "source": [
    "# function to get the variances according to the equation 6 in the paper\n",
    "def equation_6_model_variance(all_preds):\n",
    "    all_vars = []\n",
    "    for i in range(all_preds.shape[1]):\n",
    "        var = (1/(all_preds.shape[0]  - 1))*np.sum(np.square(all_preds[:,i,:] - np.mean(all_preds[:,i,:])))\n",
    "        all_vars.append(var)\n",
    "\n",
    "    return np.array(all_vars)"
   ]
  },
  {
   "cell_type": "code",
   "execution_count": 13,
   "id": "8823e18e-122a-4a8d-b6b0-84b08972ba6a",
   "metadata": {},
   "outputs": [],
   "source": [
    "# Let's assume that we have already computed the r_sqaure values for the use in the second network with the function below"
   ]
  },
  {
   "cell_type": "code",
   "execution_count": 14,
   "id": "b740046e-6e65-4e40-bb5a-ea2610df25ef",
   "metadata": {},
   "outputs": [],
   "source": [
    "# Compute r^2(x_i) for each bootstrap model\n",
    "def compute_r_squared(y_true, y_pred, model_variance):\n",
    "    # reshape the predictions to (800,) as they are of shape (800,1)\n",
    "    y_pred = np.squeeze(y_pred)\n",
    "    residuals = (y_true - y_pred) ** 2 - model_variance\n",
    "    return np.maximum(residuals, 0)"
   ]
  },
  {
   "cell_type": "code",
   "execution_count": 15,
   "id": "88d8f6af-9913-4d29-bc6d-0a91d13ecab6",
   "metadata": {},
   "outputs": [],
   "source": [
    "# Define the custom loss function as described in equation 12\n",
    "def correct_custom_loss(r_true, r_pred):\n",
    "    # first term in equation 12\n",
    "    term_1 = tf.math.log(r_pred + 1)\n",
    "    # define the second term\n",
    "    term_2 = r_true/r_pred\n",
    "    # cost function\n",
    "    cost = 0.5 * tf.reduce_mean(term_1 + term_2)\n",
    "\n",
    "    return cost"
   ]
  },
  {
   "cell_type": "code",
   "execution_count": 16,
   "id": "bea7ce57-a9e9-4d15-a4fa-3a06850ea0cc",
   "metadata": {},
   "outputs": [],
   "source": [
    "# Train function\n",
    "def train_model_nne(X_train, y_train, bootstrap_predictions, model_variance, model):\n",
    "    # Define custom loss inside model.compile using lambda\n",
    "    bootstrap_mean_predictions = np.squeeze(np.mean(bootstrap_predictions, axis = 0))\n",
    "    model.compile(optimizer='adam', \n",
    "                  loss=lambda y_true, y_pred: correct_custom_loss(\n",
    "                      y_true, y_pred))  # y_true corresponds to r_true, and y_pred corresponds to r_pred\n",
    "    \n",
    "    # The true residuals (r_true) can be computed outside and passed during training\n",
    "    r_true = compute_r_squared(y_train, bootstrap_mean_predictions, model_variance)\n",
    "    \n",
    "    # Fit the model with the true residuals\n",
    "    model.fit(X_train, r_true, epochs=50, batch_size=32)\n",
    "\n",
    "    return model"
   ]
  },
  {
   "cell_type": "code",
   "execution_count": 17,
   "id": "e12a76ac-965e-4dd1-93fc-6e6496eded4c",
   "metadata": {},
   "outputs": [],
   "source": [
    "nn_e_model = create_noise_variance_nn(X_train.shape[1:])"
   ]
  },
  {
   "cell_type": "code",
   "execution_count": 18,
   "id": "072bdefb-a148-4b14-bc2f-88b443da0546",
   "metadata": {},
   "outputs": [],
   "source": [
    "model_variance_computed = equation_6_model_variance(bootstrap_predictions)"
   ]
  },
  {
   "cell_type": "code",
   "execution_count": 19,
   "id": "6c8daa8e-bef5-406e-a4ce-6990aaf5766d",
   "metadata": {},
   "outputs": [
    {
     "data": {
      "text/plain": [
       "((800,), (800,), (800,))"
      ]
     },
     "execution_count": 19,
     "metadata": {},
     "output_type": "execute_result"
    }
   ],
   "source": [
    "model_variance_computed.shape, y_train.shape, np.squeeze(np.mean(bootstrap_predictions, axis = 0)).shape"
   ]
  },
  {
   "cell_type": "code",
   "execution_count": 20,
   "id": "b85aaab9-e545-48c9-bbe0-de61196dfdb5",
   "metadata": {
    "scrolled": true
   },
   "outputs": [
    {
     "name": "stdout",
     "output_type": "stream",
     "text": [
      "Epoch 1/50\n",
      "25/25 [==============================] - 1s 3ms/step - loss: 0.6117\n",
      "Epoch 2/50\n",
      "25/25 [==============================] - 0s 3ms/step - loss: 0.6016\n",
      "Epoch 3/50\n",
      "25/25 [==============================] - 0s 3ms/step - loss: 0.5957\n",
      "Epoch 4/50\n",
      "25/25 [==============================] - 0s 3ms/step - loss: 0.5922\n",
      "Epoch 5/50\n",
      "25/25 [==============================] - 0s 3ms/step - loss: 0.5892\n",
      "Epoch 6/50\n",
      "25/25 [==============================] - 0s 3ms/step - loss: 0.5861\n",
      "Epoch 7/50\n",
      "25/25 [==============================] - 0s 3ms/step - loss: 0.5831\n",
      "Epoch 8/50\n",
      "25/25 [==============================] - 0s 3ms/step - loss: 0.5806\n",
      "Epoch 9/50\n",
      "25/25 [==============================] - 0s 3ms/step - loss: 0.5784\n",
      "Epoch 10/50\n",
      "25/25 [==============================] - 0s 3ms/step - loss: 0.5761\n",
      "Epoch 11/50\n",
      "25/25 [==============================] - 0s 3ms/step - loss: 0.5732\n",
      "Epoch 12/50\n",
      "25/25 [==============================] - 0s 3ms/step - loss: 0.5715\n",
      "Epoch 13/50\n",
      "25/25 [==============================] - 0s 3ms/step - loss: 0.5696\n",
      "Epoch 14/50\n",
      "25/25 [==============================] - 0s 3ms/step - loss: 0.5678\n",
      "Epoch 15/50\n",
      "25/25 [==============================] - 0s 3ms/step - loss: 0.5645\n",
      "Epoch 16/50\n",
      "25/25 [==============================] - 0s 3ms/step - loss: 0.5624\n",
      "Epoch 17/50\n",
      "25/25 [==============================] - 0s 3ms/step - loss: 0.5601\n",
      "Epoch 18/50\n",
      "25/25 [==============================] - 0s 3ms/step - loss: 0.5582\n",
      "Epoch 19/50\n",
      "25/25 [==============================] - 0s 3ms/step - loss: 0.5559\n",
      "Epoch 20/50\n",
      "25/25 [==============================] - 0s 3ms/step - loss: 0.5539\n",
      "Epoch 21/50\n",
      "25/25 [==============================] - 0s 3ms/step - loss: 0.5523\n",
      "Epoch 22/50\n",
      "25/25 [==============================] - 0s 3ms/step - loss: 0.5499\n",
      "Epoch 23/50\n",
      "25/25 [==============================] - 0s 3ms/step - loss: 0.5491\n",
      "Epoch 24/50\n",
      "25/25 [==============================] - 0s 3ms/step - loss: 0.5462\n",
      "Epoch 25/50\n",
      "25/25 [==============================] - 0s 3ms/step - loss: 0.5442\n",
      "Epoch 26/50\n",
      "25/25 [==============================] - 0s 3ms/step - loss: 0.5428\n",
      "Epoch 27/50\n",
      "25/25 [==============================] - 0s 3ms/step - loss: 0.5409\n",
      "Epoch 28/50\n",
      "25/25 [==============================] - 0s 3ms/step - loss: 0.5377\n",
      "Epoch 29/50\n",
      "25/25 [==============================] - 0s 3ms/step - loss: 0.5365\n",
      "Epoch 30/50\n",
      "25/25 [==============================] - 0s 3ms/step - loss: 0.5361\n",
      "Epoch 31/50\n",
      "25/25 [==============================] - 0s 3ms/step - loss: 0.5331\n",
      "Epoch 32/50\n",
      "25/25 [==============================] - 0s 3ms/step - loss: 0.5310\n",
      "Epoch 33/50\n",
      "25/25 [==============================] - 0s 3ms/step - loss: 0.5308\n",
      "Epoch 34/50\n",
      "25/25 [==============================] - 0s 3ms/step - loss: 0.5276\n",
      "Epoch 35/50\n",
      "25/25 [==============================] - 0s 3ms/step - loss: 0.5255\n",
      "Epoch 36/50\n",
      "25/25 [==============================] - 0s 3ms/step - loss: 0.5245\n",
      "Epoch 37/50\n",
      "25/25 [==============================] - 0s 3ms/step - loss: 0.5217\n",
      "Epoch 38/50\n",
      "25/25 [==============================] - 0s 3ms/step - loss: 0.5204\n",
      "Epoch 39/50\n",
      "25/25 [==============================] - 0s 3ms/step - loss: 0.5181\n",
      "Epoch 40/50\n",
      "25/25 [==============================] - 0s 3ms/step - loss: 0.5167\n",
      "Epoch 41/50\n",
      "25/25 [==============================] - 0s 3ms/step - loss: 0.5148\n",
      "Epoch 42/50\n",
      "25/25 [==============================] - 0s 3ms/step - loss: 0.5136\n",
      "Epoch 43/50\n",
      "25/25 [==============================] - 0s 3ms/step - loss: 0.5108\n",
      "Epoch 44/50\n",
      "25/25 [==============================] - 0s 3ms/step - loss: 0.5096\n",
      "Epoch 45/50\n",
      "25/25 [==============================] - 0s 3ms/step - loss: 0.5076\n",
      "Epoch 46/50\n",
      "25/25 [==============================] - 0s 3ms/step - loss: 0.5065\n",
      "Epoch 47/50\n",
      "25/25 [==============================] - 0s 3ms/step - loss: 0.5040\n",
      "Epoch 48/50\n",
      "25/25 [==============================] - 0s 3ms/step - loss: 0.5025\n",
      "Epoch 49/50\n",
      "25/25 [==============================] - 0s 3ms/step - loss: 0.5011\n",
      "Epoch 50/50\n",
      "25/25 [==============================] - 0s 3ms/step - loss: 0.4993\n"
     ]
    }
   ],
   "source": [
    "# Train the noise variance estimation model (Phase II) using the custom likelihood-based loss function\n",
    "nn_e_custom = train_model_nne(X_train, y_train, bootstrap_predictions, model_variance_computed, nn_e_model)"
   ]
  },
  {
   "cell_type": "code",
   "execution_count": 21,
   "id": "b138b515-1cce-4c98-adb5-1bc68fb056d1",
   "metadata": {},
   "outputs": [
    {
     "name": "stdout",
     "output_type": "stream",
     "text": [
      "4/4 [==============================] - 0s 7ms/step\n",
      "4/4 [==============================] - 0s 1ms/step\n",
      "4/4 [==============================] - 0s 2ms/step\n",
      "4/4 [==============================] - 0s 1ms/step\n",
      "4/4 [==============================] - 0s 1ms/step\n",
      "4/4 [==============================] - 0s 1ms/step\n",
      "4/4 [==============================] - 0s 1ms/step\n",
      "4/4 [==============================] - 0s 1ms/step\n",
      "4/4 [==============================] - 0s 2ms/step\n",
      "4/4 [==============================] - 0s 2ms/step\n"
     ]
    }
   ],
   "source": [
    "# Step 8: Evaluate the models on the test set\n",
    "# Make predictions with the bootstrap models\n",
    "bootstrap_preds_test = np.array([model.predict(X_test) for model in bootstrap_models])"
   ]
  },
  {
   "cell_type": "code",
   "execution_count": 22,
   "id": "f6e0952d-db05-4840-8085-f4beec6f9bb5",
   "metadata": {},
   "outputs": [],
   "source": [
    "# Calculate the mean prediction across all bootstrap models\n",
    "bootstrap_mean_preds_test = np.mean(bootstrap_preds_test, axis=0)"
   ]
  },
  {
   "cell_type": "code",
   "execution_count": 23,
   "id": "2ff7bd1b-3409-427a-b346-dc0c78e81219",
   "metadata": {},
   "outputs": [
    {
     "data": {
      "text/plain": [
       "(100, 1)"
      ]
     },
     "execution_count": 23,
     "metadata": {},
     "output_type": "execute_result"
    }
   ],
   "source": [
    "bootstrap_mean_preds_test.shape"
   ]
  },
  {
   "cell_type": "code",
   "execution_count": 24,
   "id": "332d80b9-24a8-41d4-b76a-54aa59739c17",
   "metadata": {},
   "outputs": [
    {
     "name": "stdout",
     "output_type": "stream",
     "text": [
      "4/4 [==============================] - 0s 1ms/step\n"
     ]
    }
   ],
   "source": [
    "# Estimate the noise variance using NNₑ\n",
    "predicted_variance_test = nn_e_custom.predict(X_test)"
   ]
  },
  {
   "cell_type": "code",
   "execution_count": 25,
   "id": "a19744aa-c60e-40f5-be50-ba1cf223da57",
   "metadata": {},
   "outputs": [
    {
     "data": {
      "text/plain": [
       "(100, 1)"
      ]
     },
     "execution_count": 25,
     "metadata": {},
     "output_type": "execute_result"
    }
   ],
   "source": [
    "predicted_variance_test.shape"
   ]
  },
  {
   "cell_type": "code",
   "execution_count": 26,
   "id": "1cfc432c-9cbc-47ae-a520-e33de236b119",
   "metadata": {},
   "outputs": [
    {
     "name": "stdout",
     "output_type": "stream",
     "text": [
      "Mean prediction for test set: -0.6090747714042664\n",
      "Estimated noise variance (NNₑ) for test set: 0.7931227087974548\n"
     ]
    }
   ],
   "source": [
    "# Print results\n",
    "print(f\"Mean prediction for test set: {np.mean(bootstrap_mean_preds_test)}\")\n",
    "print(f\"Estimated noise variance (NNₑ) for test set: {np.mean(predicted_variance_test)}\")"
   ]
  },
  {
   "cell_type": "code",
   "execution_count": 27,
   "id": "d7f01232-e08d-4adf-bcd1-6208316d5180",
   "metadata": {},
   "outputs": [],
   "source": [
    "# Okay, now this is a wokring code, we jus need to ensure that whatever this does is indeed correct. Let's see if we can verify this"
   ]
  },
  {
   "cell_type": "code",
   "execution_count": 28,
   "id": "1e449934-6724-4910-a76b-066e74784f73",
   "metadata": {},
   "outputs": [],
   "source": [
    "# Okay, now moving to computation of confidence intervals"
   ]
  },
  {
   "cell_type": "code",
   "execution_count": 29,
   "id": "c50e7e32-cf46-48c9-a1d0-e3c8d073fbc2",
   "metadata": {},
   "outputs": [],
   "source": [
    "# now the predictions are given by the first network, however, we need to compute the total variance for the test datapoints inorder to compute the prediction intervals."
   ]
  },
  {
   "cell_type": "code",
   "execution_count": 30,
   "id": "747b5666-1579-4ad5-b7d3-3a35aa3b838b",
   "metadata": {},
   "outputs": [],
   "source": [
    "# We need the test set, and all computations we will have from here will be for the test set. We also need tot accomodate the validation set in the code before we can say we have a working code for the toy dataset"
   ]
  },
  {
   "cell_type": "code",
   "execution_count": 31,
   "id": "df8d55aa-696d-4827-96b3-163c162c1ac3",
   "metadata": {},
   "outputs": [],
   "source": [
    "# Predicted values from bootstraps for the test set - we computed this earlier"
   ]
  },
  {
   "cell_type": "code",
   "execution_count": 32,
   "id": "df72aa9f-4ac9-4611-a833-b246b21f1966",
   "metadata": {},
   "outputs": [
    {
     "data": {
      "text/plain": [
       "(100, 1)"
      ]
     },
     "execution_count": 32,
     "metadata": {},
     "output_type": "execute_result"
    }
   ],
   "source": [
    "bootstrap_mean_preds_test.shape"
   ]
  },
  {
   "cell_type": "code",
   "execution_count": 33,
   "id": "47743faf-469e-40d8-815a-73a61546f1f2",
   "metadata": {},
   "outputs": [
    {
     "data": {
      "text/plain": [
       "(100, 1)"
      ]
     },
     "execution_count": 33,
     "metadata": {},
     "output_type": "execute_result"
    }
   ],
   "source": [
    "# we also have the error variance from the NNe network computed for the test set, gievn by \n",
    "\n",
    "predicted_variance_test.shape"
   ]
  },
  {
   "cell_type": "code",
   "execution_count": 34,
   "id": "3007a140-0f2f-4785-9c10-6dfa1f8a63d2",
   "metadata": {},
   "outputs": [
    {
     "data": {
      "text/plain": [
       "(0.13072662, 2.9982839)"
      ]
     },
     "execution_count": 34,
     "metadata": {},
     "output_type": "execute_result"
    }
   ],
   "source": [
    "np.min(predicted_variance_test), np.max(predicted_variance_test)"
   ]
  },
  {
   "cell_type": "code",
   "execution_count": 35,
   "id": "a7c1f820-1807-48b5-b46f-bd122f61f0a4",
   "metadata": {},
   "outputs": [],
   "source": [
    "# Okay, so we do not have any variances that are zeros"
   ]
  },
  {
   "cell_type": "code",
   "execution_count": 36,
   "id": "a37ded0c-4fbf-40b9-93e8-0fa932e9f4c1",
   "metadata": {},
   "outputs": [],
   "source": [
    "# now what about the model misspecification variance?\n",
    "\n",
    "# we can compute this based on the the function we defined earlier"
   ]
  },
  {
   "cell_type": "code",
   "execution_count": 37,
   "id": "44da4c4f-c8fa-4cb4-8c4f-0dda640658fc",
   "metadata": {},
   "outputs": [],
   "source": [
    "model_variance_test = equation_6_model_variance(bootstrap_preds_test)"
   ]
  },
  {
   "cell_type": "code",
   "execution_count": 38,
   "id": "e7f4f953-f5fa-4d64-93a1-0c640c013eec",
   "metadata": {},
   "outputs": [
    {
     "data": {
      "text/plain": [
       "(100,)"
      ]
     },
     "execution_count": 38,
     "metadata": {},
     "output_type": "execute_result"
    }
   ],
   "source": [
    "model_variance_test.shape"
   ]
  },
  {
   "cell_type": "code",
   "execution_count": 39,
   "id": "deb526a4-b09a-4e3e-a8a1-ca7e04583eac",
   "metadata": {},
   "outputs": [
    {
     "data": {
      "text/plain": [
       "(0.013632014393806458, 0.9416056738959417)"
      ]
     },
     "execution_count": 39,
     "metadata": {},
     "output_type": "execute_result"
    }
   ],
   "source": [
    "# what are the minimum and the maximum values here?\n",
    "np.min(model_variance_test), np.max(model_variance_test)"
   ]
  },
  {
   "cell_type": "code",
   "execution_count": 40,
   "id": "1ce2e188-58e3-46d0-ad9b-ab3619053b62",
   "metadata": {},
   "outputs": [],
   "source": [
    "# Okay, seems like this error variance is much more smaller compared to the error variance"
   ]
  },
  {
   "cell_type": "code",
   "execution_count": 41,
   "id": "b3396212-3383-485f-b2f3-c2b48c5b9815",
   "metadata": {},
   "outputs": [],
   "source": [
    "# Let's commit this for now, and continue with this tomorrow."
   ]
  },
  {
   "cell_type": "code",
   "execution_count": 42,
   "id": "b10792eb-5cb9-4a44-83cc-1ca574fedaf5",
   "metadata": {},
   "outputs": [],
   "source": [
    "# Implement a toy code for computing the prediction intervals"
   ]
  },
  {
   "cell_type": "code",
   "execution_count": 43,
   "id": "47668078-e994-435d-9f61-57908f428b79",
   "metadata": {},
   "outputs": [
    {
     "name": "stdout",
     "output_type": "stream",
     "text": [
      "(100,)\n",
      "[100   1]\n"
     ]
    }
   ],
   "source": [
    "# we need both mddel varinance and error variance\n",
    "\n",
    "# model variance is here \n",
    "print(model_variance_test.shape)\n",
    "\n",
    "# error variance is here\n",
    "print(np.squeeze(predicted_variance_test.shape))"
   ]
  },
  {
   "cell_type": "code",
   "execution_count": 44,
   "id": "3db7adec-4c8a-4e89-8574-763b94d1ac32",
   "metadata": {},
   "outputs": [],
   "source": [
    "# where are the bootstrap predictions?\n",
    "bootstrap_mean_preds_test = np.squeeze(bootstrap_mean_preds_test)"
   ]
  },
  {
   "cell_type": "code",
   "execution_count": 45,
   "id": "8b8091be-6345-4420-98d3-f6cb403737b4",
   "metadata": {},
   "outputs": [
    {
     "data": {
      "text/plain": [
       "(100,)"
      ]
     },
     "execution_count": 45,
     "metadata": {},
     "output_type": "execute_result"
    }
   ],
   "source": [
    "bootstrap_mean_preds_test.shape"
   ]
  },
  {
   "cell_type": "code",
   "execution_count": 54,
   "id": "01a28ede-0b2b-4f00-9778-9fe376069e11",
   "metadata": {},
   "outputs": [],
   "source": [
    "# prediction intervals\n",
    "# lower bound\n",
    "lower_l = bootstrap_mean_preds_test - 1.96*np.sqrt(np.squeeze(predicted_variance_test) + model_variance_test)"
   ]
  },
  {
   "cell_type": "code",
   "execution_count": 55,
   "id": "4105f9bf-c1bc-4c0c-a982-a88f800e62c8",
   "metadata": {},
   "outputs": [
    {
     "data": {
      "text/plain": [
       "0"
      ]
     },
     "execution_count": 55,
     "metadata": {},
     "output_type": "execute_result"
    }
   ],
   "source": [
    "# any missing values\n",
    "np.isnan(lower_l).sum()"
   ]
  },
  {
   "cell_type": "code",
   "execution_count": 56,
   "id": "9f991237-a2eb-4614-8b1f-a007f927b364",
   "metadata": {},
   "outputs": [
    {
     "data": {
      "text/plain": [
       "(100,)"
      ]
     },
     "execution_count": 56,
     "metadata": {},
     "output_type": "execute_result"
    }
   ],
   "source": [
    "lower_l.shape"
   ]
  },
  {
   "cell_type": "code",
   "execution_count": 58,
   "id": "5a415b34-cc43-408c-92e5-fb17743baabf",
   "metadata": {},
   "outputs": [],
   "source": [
    "# upper bound\n",
    "upper_l = bootstrap_mean_preds_test + 1.96*np.sqrt(np.squeeze(predicted_variance_test) + model_variance_test)"
   ]
  },
  {
   "cell_type": "code",
   "execution_count": 59,
   "id": "f52a3b77-d0ae-43f1-8829-157afdcb3671",
   "metadata": {},
   "outputs": [
    {
     "data": {
      "text/plain": [
       "0"
      ]
     },
     "execution_count": 59,
     "metadata": {},
     "output_type": "execute_result"
    }
   ],
   "source": [
    "# any missing values?\n",
    "np.isnan(upper_l).sum()"
   ]
  },
  {
   "cell_type": "code",
   "execution_count": 60,
   "id": "2bd69c9d-ca6f-45a9-9faa-b831ea75e54e",
   "metadata": {},
   "outputs": [
    {
     "data": {
      "text/plain": [
       "(100,)"
      ]
     },
     "execution_count": 60,
     "metadata": {},
     "output_type": "execute_result"
    }
   ],
   "source": [
    "upper_l.shape"
   ]
  },
  {
   "cell_type": "code",
   "execution_count": 61,
   "id": "a1ea50fd-c232-45e9-8d53-2e7daa589297",
   "metadata": {},
   "outputs": [],
   "source": [
    "# see if some of these values are correct"
   ]
  },
  {
   "cell_type": "code",
   "execution_count": null,
   "id": "4434c520-a63d-4135-8eca-2870b300443b",
   "metadata": {},
   "outputs": [],
   "source": []
  }
 ],
 "metadata": {
  "kernelspec": {
   "display_name": "Python (tfp_for_TN)",
   "language": "python",
   "name": "tfp_for_tn"
  },
  "language_info": {
   "codemirror_mode": {
    "name": "ipython",
    "version": 3
   },
   "file_extension": ".py",
   "mimetype": "text/x-python",
   "name": "python",
   "nbconvert_exporter": "python",
   "pygments_lexer": "ipython3",
   "version": "3.10.14"
  }
 },
 "nbformat": 4,
 "nbformat_minor": 5
}
