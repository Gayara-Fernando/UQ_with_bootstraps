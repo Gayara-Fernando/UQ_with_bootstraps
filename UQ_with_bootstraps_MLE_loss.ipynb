{
 "cells": [
  {
   "cell_type": "markdown",
   "id": "57d15c78-be3b-4016-826e-32246172c6c7",
   "metadata": {},
   "source": [
    "Okay, here we are introducing the new custom loss function, which is the MLE. We need this to work before we proceed to the work with DeepCDR. The current custom loss we have over here are not working, so we may have to work on getting the loss function to accurately work. We may also need to adjust things like the computation of the r_square_values, as the previous code was not correctly computing these quantities."
   ]
  },
  {
   "cell_type": "code",
   "execution_count": 1,
   "id": "69ee8190-fbe5-482f-9ed8-84e69abbe268",
   "metadata": {},
   "outputs": [
    {
     "name": "stderr",
     "output_type": "stream",
     "text": [
      "2025-04-03 10:30:35.443808: I tensorflow/core/util/port.cc:113] oneDNN custom operations are on. You may see slightly different numerical results due to floating-point round-off errors from different computation orders. To turn them off, set the environment variable `TF_ENABLE_ONEDNN_OPTS=0`.\n",
      "2025-04-03 10:30:36.784717: E external/local_xla/xla/stream_executor/cuda/cuda_dnn.cc:9261] Unable to register cuDNN factory: Attempting to register factory for plugin cuDNN when one has already been registered\n",
      "2025-04-03 10:30:36.784791: E external/local_xla/xla/stream_executor/cuda/cuda_fft.cc:607] Unable to register cuFFT factory: Attempting to register factory for plugin cuFFT when one has already been registered\n",
      "2025-04-03 10:30:36.951061: E external/local_xla/xla/stream_executor/cuda/cuda_blas.cc:1515] Unable to register cuBLAS factory: Attempting to register factory for plugin cuBLAS when one has already been registered\n",
      "2025-04-03 10:30:37.353939: I tensorflow/core/platform/cpu_feature_guard.cc:182] This TensorFlow binary is optimized to use available CPU instructions in performance-critical operations.\n",
      "To enable the following instructions: SSE4.1 SSE4.2 AVX AVX2 AVX512F AVX512_VNNI FMA, in other operations, rebuild TensorFlow with the appropriate compiler flags.\n"
     ]
    }
   ],
   "source": [
    "import numpy as np\n",
    "import tensorflow as tf\n",
    "import os\n",
    "from sklearn.model_selection import train_test_split"
   ]
  },
  {
   "cell_type": "code",
   "execution_count": 2,
   "id": "a69e2697-5d14-4e7d-96eb-ff7a9667650b",
   "metadata": {},
   "outputs": [],
   "source": [
    "# Set random seed for reproducibility\n",
    "np.random.seed(42)\n",
    "tf.random.set_seed(42)"
   ]
  },
  {
   "cell_type": "code",
   "execution_count": 3,
   "id": "a01183d1-378e-4df1-a352-a4289a0436fe",
   "metadata": {},
   "outputs": [],
   "source": [
    "# Step 1: Generate random data (10 features, 1 output)\n",
    "n_samples = 1000\n",
    "n_features = 10"
   ]
  },
  {
   "cell_type": "code",
   "execution_count": 4,
   "id": "51bb562d-e6db-4412-9a04-02e54ce106f4",
   "metadata": {},
   "outputs": [],
   "source": [
    "# Generate random input features (X) and output (y)\n",
    "X = np.random.randn(n_samples, n_features)\n",
    "y = 2 * np.sum(X, axis=1) + np.random.randn(n_samples)  # Simple linear relation + noise\n",
    "\n",
    "# Split the data into training, validation, and test sets (80% train, 10% validation, 10% test)\n",
    "X_train, X_temp, y_train, y_temp = train_test_split(X, y, test_size=0.2, random_state=42)\n",
    "X_val, X_test, y_val, y_test = train_test_split(X_temp, y_temp, test_size=0.5, random_state=42)"
   ]
  },
  {
   "cell_type": "code",
   "execution_count": 5,
   "id": "965309d3-fa93-4317-b3d3-225025ec0a32",
   "metadata": {},
   "outputs": [
    {
     "data": {
      "text/plain": [
       "((1000, 10), (1000,))"
      ]
     },
     "execution_count": 5,
     "metadata": {},
     "output_type": "execute_result"
    }
   ],
   "source": [
    "X.shape, y.shape"
   ]
  },
  {
   "cell_type": "code",
   "execution_count": 6,
   "id": "439d5df8-a29b-43cd-ada4-d01b026e42a0",
   "metadata": {},
   "outputs": [
    {
     "data": {
      "text/plain": [
       "((800, 10), (800,), (100, 10), (100,), (100, 10), (100,))"
      ]
     },
     "execution_count": 6,
     "metadata": {},
     "output_type": "execute_result"
    }
   ],
   "source": [
    "X_train.shape, y_train.shape, X_val.shape, y_val.shape, X_test.shape, y_test.shape"
   ]
  },
  {
   "cell_type": "code",
   "execution_count": 7,
   "id": "b283cce5-8683-4312-8cb2-b68130c3aaff",
   "metadata": {},
   "outputs": [],
   "source": [
    "# Step 2: Define a simple fully connected neural network for Phase I (bootstrap models)\n",
    "\n",
    "# notice the loss function in the main network is indeed whatever it is trained with, in this case it is the mse\n",
    "def create_bootstrap_nn(input_shape):\n",
    "    model = tf.keras.models.Sequential([\n",
    "        tf.keras.layers.InputLayer(input_shape=input_shape),\n",
    "        tf.keras.layers.Dense(64, activation='relu'),\n",
    "        tf.keras.layers.Dense(32, activation='relu'),\n",
    "        tf.keras.layers.Dense(1)  # Output layer for regression\n",
    "    ])\n",
    "    model.compile(optimizer='adam', loss='mse')\n",
    "    return model"
   ]
  },
  {
   "cell_type": "code",
   "execution_count": 8,
   "id": "1975199c-0e6c-4712-8088-dbdb7d3ac564",
   "metadata": {},
   "outputs": [],
   "source": [
    "# Step 3: Define the noise variance estimation network (Phase II)\n",
    "def create_noise_variance_nn(input_shape):\n",
    "    model = tf.keras.models.Sequential([\n",
    "        tf.keras.layers.InputLayer(input_shape=input_shape),\n",
    "        tf.keras.layers.Dense(64, activation='relu'),\n",
    "        tf.keras.layers.Dense(32, activation='relu'),\n",
    "        tf.keras.layers.Dense(1, activation=tf.keras.activations.exponential)  # Output layer for variance prediction\n",
    "    ])\n",
    "    return model"
   ]
  },
  {
   "cell_type": "code",
   "execution_count": 9,
   "id": "7f9dd34d-ccaa-4a53-93a6-1bdf552630a5",
   "metadata": {},
   "outputs": [],
   "source": [
    "# Step 4: Train bootstrap neural networks (Phase I)\n",
    "def train_bootstrap_nns(X_train, y_train, B=10):\n",
    "    bootstrap_models = []\n",
    "    bootstrap_predictions = []\n",
    "\n",
    "    # Generate B bootstrap samples and train models\n",
    "    for _ in range(B):\n",
    "        # Create a bootstrap sample by sampling with replacement\n",
    "        indices = np.random.choice(len(X_train), size=len(X_train), replace=True)\n",
    "        X_bootstrap = X_train[indices]\n",
    "        y_bootstrap = y_train[indices]\n",
    "\n",
    "        # Create and train a new model\n",
    "        model = create_bootstrap_nn(X_train.shape[1:])\n",
    "        model.fit(X_bootstrap, y_bootstrap, epochs=50, batch_size=32, verbose=0)\n",
    "        bootstrap_models.append(model)\n",
    "\n",
    "        # Store predictions on the original training data\n",
    "        predictions = model.predict(X_train)\n",
    "        bootstrap_predictions.append(predictions)\n",
    "\n",
    "    return bootstrap_models, np.array(bootstrap_predictions)"
   ]
  },
  {
   "cell_type": "code",
   "execution_count": 10,
   "id": "0f2b7acc-b0d7-49a6-9523-6d82792dad47",
   "metadata": {},
   "outputs": [
    {
     "name": "stderr",
     "output_type": "stream",
     "text": [
      "2025-04-03 10:37:55.333484: I tensorflow/core/common_runtime/gpu/gpu_device.cc:1929] Created device /job:localhost/replica:0/task:0/device:GPU:0 with 31134 MB memory:  -> device: 0, name: Tesla V100S-PCIE-32GB, pci bus id: 0000:06:00.0, compute capability: 7.0\n",
      "2025-04-03 10:38:00.982828: I external/local_xla/xla/service/service.cc:168] XLA service 0x145a71ba1280 initialized for platform CUDA (this does not guarantee that XLA will be used). Devices:\n",
      "2025-04-03 10:38:00.982866: I external/local_xla/xla/service/service.cc:176]   StreamExecutor device (0): Tesla V100S-PCIE-32GB, Compute Capability 7.0\n",
      "2025-04-03 10:38:01.075744: I tensorflow/compiler/mlir/tensorflow/utils/dump_mlir_util.cc:269] disabling MLIR crash reproducer, set env var `MLIR_CRASH_REPRODUCER_DIRECTORY` to enable.\n",
      "2025-04-03 10:38:01.528020: I external/local_xla/xla/stream_executor/cuda/cuda_dnn.cc:454] Loaded cuDNN version 8907\n",
      "WARNING: All log messages before absl::InitializeLog() is called are written to STDERR\n",
      "I0000 00:00:1743694681.920497 2138367 device_compiler.h:186] Compiled cluster using XLA!  This line is logged at most once for the lifetime of the process.\n"
     ]
    },
    {
     "name": "stdout",
     "output_type": "stream",
     "text": [
      "25/25 [==============================] - 0s 980us/step\n",
      "25/25 [==============================] - 0s 945us/step\n",
      "25/25 [==============================] - 0s 1ms/step\n",
      "25/25 [==============================] - 0s 968us/step\n",
      "25/25 [==============================] - 0s 960us/step\n",
      "25/25 [==============================] - 0s 943us/step\n",
      "25/25 [==============================] - 0s 960us/step\n",
      "25/25 [==============================] - 0s 969us/step\n",
      "25/25 [==============================] - 0s 926us/step\n",
      "25/25 [==============================] - 0s 985us/step\n"
     ]
    }
   ],
   "source": [
    "# Step 7: Train the models\n",
    "# Train the bootstrap models (Phase I)\n",
    "bootstrap_models, bootstrap_predictions = train_bootstrap_nns(X_train, y_train, B=10)"
   ]
  },
  {
   "cell_type": "code",
   "execution_count": 11,
   "id": "8d886d04-641e-442a-ae33-a7df42930ff7",
   "metadata": {},
   "outputs": [
    {
     "data": {
      "text/plain": [
       "(10, 800, 1)"
      ]
     },
     "execution_count": 11,
     "metadata": {},
     "output_type": "execute_result"
    }
   ],
   "source": [
    "bootstrap_predictions.shape"
   ]
  },
  {
   "cell_type": "code",
   "execution_count": 14,
   "id": "9d6495f6-a79f-48a5-a409-4cfe240841a6",
   "metadata": {},
   "outputs": [
    {
     "data": {
      "text/plain": [
       "10"
      ]
     },
     "execution_count": 14,
     "metadata": {},
     "output_type": "execute_result"
    }
   ],
   "source": [
    "# This list has all the trained models\n",
    "len(bootstrap_models)"
   ]
  },
  {
   "cell_type": "code",
   "execution_count": 15,
   "id": "23550a09-46b2-411b-b28b-4421501c4f61",
   "metadata": {},
   "outputs": [
    {
     "data": {
      "text/plain": [
       "<keras.src.engine.sequential.Sequential at 0x145b8ea3c100>"
      ]
     },
     "execution_count": 15,
     "metadata": {},
     "output_type": "execute_result"
    }
   ],
   "source": [
    "# below is a keras sequential model\n",
    "bootstrap_models[0]"
   ]
  },
  {
   "cell_type": "code",
   "execution_count": 16,
   "id": "c90859d1-91d7-45fa-90d7-a44ad64e098b",
   "metadata": {},
   "outputs": [
    {
     "data": {
      "text/plain": [
       "(800,)"
      ]
     },
     "execution_count": 16,
     "metadata": {},
     "output_type": "execute_result"
    }
   ],
   "source": [
    "# okay, what does this do? - Takes the average across all the bootstrap samples, and make squeeze makes the 2D array a 1D\n",
    "np.squeeze(np.mean(bootstrap_predictions, axis = 0)).shape"
   ]
  },
  {
   "cell_type": "code",
   "execution_count": 18,
   "id": "7441f356-0506-44ef-8ac4-476433b29ca6",
   "metadata": {},
   "outputs": [
    {
     "data": {
      "text/plain": [
       "(800, 1)"
      ]
     },
     "execution_count": 18,
     "metadata": {},
     "output_type": "execute_result"
    }
   ],
   "source": [
    "np.mean(bootstrap_predictions, axis = 0).shape"
   ]
  },
  {
   "cell_type": "code",
   "execution_count": 19,
   "id": "f70a0e09-1d63-400c-a732-78b30c5f12dc",
   "metadata": {},
   "outputs": [],
   "source": [
    "# np.squeeze makes a 2d array a 1D"
   ]
  },
  {
   "cell_type": "code",
   "execution_count": 20,
   "id": "c74dcc4c-5ed9-40ea-81dd-3e3aa3519784",
   "metadata": {},
   "outputs": [],
   "source": [
    "# The shape matches what we had earlier - no issue there"
   ]
  },
  {
   "cell_type": "code",
   "execution_count": 21,
   "id": "afa4e8a3-8830-484b-b15b-9b25fb028df5",
   "metadata": {},
   "outputs": [],
   "source": [
    "# function to get the variances according to the equation 6 in the paper\n",
    "\n",
    "# also note that the all_preds array is a 3D, with dim 0 the bootstrap sample, dim 1 the pred values, and last dim just 1, making it the 3D array\n",
    "def equation_6_model_variance(all_preds):\n",
    "    all_vars = []\n",
    "    for i in range(all_preds.shape[1]):\n",
    "        var = (1/(all_preds.shape[0]  - 1))*np.sum(np.square(all_preds[:,i,:] - np.mean(all_preds[:,i,:])))\n",
    "        all_vars.append(var)\n",
    "\n",
    "    return np.array(all_vars)"
   ]
  },
  {
   "cell_type": "code",
   "execution_count": 22,
   "id": "8823e18e-122a-4a8d-b6b0-84b08972ba6a",
   "metadata": {},
   "outputs": [],
   "source": [
    "# Let's assume that we have already computed the r_sqaure values for the use in the second network with the function below"
   ]
  },
  {
   "cell_type": "code",
   "execution_count": null,
   "id": "b740046e-6e65-4e40-bb5a-ea2610df25ef",
   "metadata": {},
   "outputs": [],
   "source": [
    "# Compute r^2(x_i) for each bootstrap model\n",
    "def compute_r_squared(y_true, y_pred, model_variance):\n",
    "    # reshape the predictions to (800,) as they are of shape (800,1)\n",
    "    y_pred = np.squeeze(y_pred)\n",
    "    residuals = (y_true - y_pred) ** 2 - model_variance\n",
    "    return np.maximum(residuals, 0)"
   ]
  },
  {
   "cell_type": "code",
   "execution_count": null,
   "id": "88d8f6af-9913-4d29-bc6d-0a91d13ecab6",
   "metadata": {},
   "outputs": [],
   "source": [
    "# Define the custom loss function as described in equation 12\n",
    "def correct_custom_loss(r_true, r_pred):\n",
    "    # first term in equation 12\n",
    "    term_1 = tf.math.log(r_pred + 1)\n",
    "    # define the second term\n",
    "    term_2 = r_true/r_pred\n",
    "    # cost function\n",
    "    cost = 0.5 * tf.reduce_mean(term_1 + term_2)\n",
    "\n",
    "    return cost"
   ]
  },
  {
   "cell_type": "code",
   "execution_count": null,
   "id": "bea7ce57-a9e9-4d15-a4fa-3a06850ea0cc",
   "metadata": {},
   "outputs": [],
   "source": [
    "# Train function\n",
    "def train_model_nne(X_train, y_train, bootstrap_predictions, model_variance, model):\n",
    "    # Define custom loss inside model.compile using lambda\n",
    "    bootstrap_mean_predictions = np.squeeze(np.mean(bootstrap_predictions, axis = 0))\n",
    "    model.compile(optimizer='adam', \n",
    "                  loss=lambda y_true, y_pred: correct_custom_loss(\n",
    "                      y_true, y_pred))  # y_true corresponds to r_true, and y_pred corresponds to r_pred\n",
    "    \n",
    "    # The true residuals (r_true) can be computed outside and passed during training\n",
    "    r_true = compute_r_squared(y_train, bootstrap_mean_predictions, model_variance)\n",
    "    \n",
    "    # Fit the model with the true residuals\n",
    "    model.fit(X_train, r_true, epochs=50, batch_size=32)\n",
    "\n",
    "    return model"
   ]
  },
  {
   "cell_type": "code",
   "execution_count": null,
   "id": "e12a76ac-965e-4dd1-93fc-6e6496eded4c",
   "metadata": {},
   "outputs": [],
   "source": [
    "nn_e_model = create_noise_variance_nn(X_train.shape[1:])"
   ]
  },
  {
   "cell_type": "code",
   "execution_count": null,
   "id": "072bdefb-a148-4b14-bc2f-88b443da0546",
   "metadata": {},
   "outputs": [],
   "source": [
    "model_variance_computed = equation_6_model_variance(bootstrap_predictions)"
   ]
  },
  {
   "cell_type": "code",
   "execution_count": null,
   "id": "6c8daa8e-bef5-406e-a4ce-6990aaf5766d",
   "metadata": {},
   "outputs": [],
   "source": [
    "model_variance_computed.shape, y_train.shape, np.squeeze(np.mean(bootstrap_predictions, axis = 0)).shape"
   ]
  },
  {
   "cell_type": "code",
   "execution_count": null,
   "id": "b85aaab9-e545-48c9-bbe0-de61196dfdb5",
   "metadata": {
    "scrolled": true
   },
   "outputs": [],
   "source": [
    "# Train the noise variance estimation model (Phase II) using the custom likelihood-based loss function\n",
    "nn_e_custom = train_model_nne(X_train, y_train, bootstrap_predictions, model_variance_computed, nn_e_model)"
   ]
  },
  {
   "cell_type": "code",
   "execution_count": null,
   "id": "b138b515-1cce-4c98-adb5-1bc68fb056d1",
   "metadata": {},
   "outputs": [],
   "source": [
    "# Step 8: Evaluate the models on the test set\n",
    "# Make predictions with the bootstrap models\n",
    "bootstrap_preds_test = np.array([model.predict(X_test) for model in bootstrap_models])"
   ]
  },
  {
   "cell_type": "code",
   "execution_count": null,
   "id": "f6e0952d-db05-4840-8085-f4beec6f9bb5",
   "metadata": {},
   "outputs": [],
   "source": [
    "# Calculate the mean prediction across all bootstrap models\n",
    "bootstrap_mean_preds_test = np.mean(bootstrap_preds_test, axis=0)"
   ]
  },
  {
   "cell_type": "code",
   "execution_count": null,
   "id": "2ff7bd1b-3409-427a-b346-dc0c78e81219",
   "metadata": {},
   "outputs": [],
   "source": [
    "bootstrap_mean_preds_test.shape"
   ]
  },
  {
   "cell_type": "code",
   "execution_count": null,
   "id": "332d80b9-24a8-41d4-b76a-54aa59739c17",
   "metadata": {},
   "outputs": [],
   "source": [
    "# Estimate the noise variance using NNₑ\n",
    "predicted_variance_test = nn_e_custom.predict(X_test)"
   ]
  },
  {
   "cell_type": "code",
   "execution_count": null,
   "id": "a19744aa-c60e-40f5-be50-ba1cf223da57",
   "metadata": {},
   "outputs": [],
   "source": [
    "predicted_variance_test.shape"
   ]
  },
  {
   "cell_type": "code",
   "execution_count": null,
   "id": "1cfc432c-9cbc-47ae-a520-e33de236b119",
   "metadata": {},
   "outputs": [],
   "source": [
    "# Print results\n",
    "print(f\"Mean prediction for test set: {np.mean(bootstrap_mean_preds_test)}\")\n",
    "print(f\"Estimated noise variance (NNₑ) for test set: {np.mean(predicted_variance_test)}\")"
   ]
  },
  {
   "cell_type": "code",
   "execution_count": null,
   "id": "d7f01232-e08d-4adf-bcd1-6208316d5180",
   "metadata": {},
   "outputs": [],
   "source": [
    "# Okay, now this is a wokring code, we jus need to ensure that whatever this does is indeed correct. Let's see if we can verify this"
   ]
  },
  {
   "cell_type": "code",
   "execution_count": null,
   "id": "1e449934-6724-4910-a76b-066e74784f73",
   "metadata": {},
   "outputs": [],
   "source": [
    "# Okay, now moving to computation of confidence intervals"
   ]
  },
  {
   "cell_type": "code",
   "execution_count": null,
   "id": "c50e7e32-cf46-48c9-a1d0-e3c8d073fbc2",
   "metadata": {},
   "outputs": [],
   "source": [
    "# now the predictions are given by the first network, however, we need to compute the total variance for the test datapoints inorder to compute the prediction intervals."
   ]
  },
  {
   "cell_type": "code",
   "execution_count": null,
   "id": "747b5666-1579-4ad5-b7d3-3a35aa3b838b",
   "metadata": {},
   "outputs": [],
   "source": [
    "# We need the test set, and all computations we will have from here will be for the test set. We also need tot accomodate the validation set in the code before we can say we have a working code for the toy dataset"
   ]
  },
  {
   "cell_type": "code",
   "execution_count": null,
   "id": "df8d55aa-696d-4827-96b3-163c162c1ac3",
   "metadata": {},
   "outputs": [],
   "source": [
    "# Predicted values from bootstraps for the test set - we computed this earlier"
   ]
  },
  {
   "cell_type": "code",
   "execution_count": null,
   "id": "df72aa9f-4ac9-4611-a833-b246b21f1966",
   "metadata": {},
   "outputs": [],
   "source": [
    "bootstrap_mean_preds_test.shape"
   ]
  },
  {
   "cell_type": "code",
   "execution_count": null,
   "id": "47743faf-469e-40d8-815a-73a61546f1f2",
   "metadata": {},
   "outputs": [],
   "source": [
    "# we also have the error variance from the NNe network computed for the test set, gievn by \n",
    "\n",
    "predicted_variance_test.shape"
   ]
  },
  {
   "cell_type": "code",
   "execution_count": null,
   "id": "3007a140-0f2f-4785-9c10-6dfa1f8a63d2",
   "metadata": {},
   "outputs": [],
   "source": [
    "np.min(predicted_variance_test), np.max(predicted_variance_test)"
   ]
  },
  {
   "cell_type": "code",
   "execution_count": null,
   "id": "a7c1f820-1807-48b5-b46f-bd122f61f0a4",
   "metadata": {},
   "outputs": [],
   "source": [
    "# Okay, so we do not have any variances that are zeros"
   ]
  },
  {
   "cell_type": "code",
   "execution_count": null,
   "id": "a37ded0c-4fbf-40b9-93e8-0fa932e9f4c1",
   "metadata": {},
   "outputs": [],
   "source": [
    "# now what about the model misspecification variance?\n",
    "\n",
    "# we can compute this based on the the function we defined earlier"
   ]
  },
  {
   "cell_type": "code",
   "execution_count": null,
   "id": "44da4c4f-c8fa-4cb4-8c4f-0dda640658fc",
   "metadata": {},
   "outputs": [],
   "source": [
    "model_variance_test = equation_6_model_variance(bootstrap_preds_test)"
   ]
  },
  {
   "cell_type": "code",
   "execution_count": null,
   "id": "e7f4f953-f5fa-4d64-93a1-0c640c013eec",
   "metadata": {},
   "outputs": [],
   "source": [
    "model_variance_test.shape"
   ]
  },
  {
   "cell_type": "code",
   "execution_count": null,
   "id": "deb526a4-b09a-4e3e-a8a1-ca7e04583eac",
   "metadata": {},
   "outputs": [],
   "source": [
    "# what are the minimum and the maximum values here?\n",
    "np.min(model_variance_test), np.max(model_variance_test)"
   ]
  },
  {
   "cell_type": "code",
   "execution_count": null,
   "id": "1ce2e188-58e3-46d0-ad9b-ab3619053b62",
   "metadata": {},
   "outputs": [],
   "source": [
    "# Okay, seems like this error variance is much more smaller compared to the error variance"
   ]
  },
  {
   "cell_type": "code",
   "execution_count": null,
   "id": "b3396212-3383-485f-b2f3-c2b48c5b9815",
   "metadata": {},
   "outputs": [],
   "source": [
    "# Let's commit this for now, and continue with this tomorrow."
   ]
  },
  {
   "cell_type": "code",
   "execution_count": null,
   "id": "b10792eb-5cb9-4a44-83cc-1ca574fedaf5",
   "metadata": {},
   "outputs": [],
   "source": [
    "# Implement a toy code for computing the prediction intervals"
   ]
  },
  {
   "cell_type": "code",
   "execution_count": null,
   "id": "47668078-e994-435d-9f61-57908f428b79",
   "metadata": {},
   "outputs": [],
   "source": [
    "# we need both mddel varinance and error variance\n",
    "\n",
    "# model variance is here \n",
    "print(model_variance_test.shape)\n",
    "\n",
    "# error variance is here\n",
    "print(np.squeeze(predicted_variance_test.shape))"
   ]
  },
  {
   "cell_type": "code",
   "execution_count": null,
   "id": "3db7adec-4c8a-4e89-8574-763b94d1ac32",
   "metadata": {},
   "outputs": [],
   "source": [
    "# where are the bootstrap predictions?\n",
    "bootstrap_mean_preds_test = np.squeeze(bootstrap_mean_preds_test)"
   ]
  },
  {
   "cell_type": "code",
   "execution_count": null,
   "id": "8b8091be-6345-4420-98d3-f6cb403737b4",
   "metadata": {},
   "outputs": [],
   "source": [
    "bootstrap_mean_preds_test.shape"
   ]
  },
  {
   "cell_type": "code",
   "execution_count": null,
   "id": "01a28ede-0b2b-4f00-9778-9fe376069e11",
   "metadata": {},
   "outputs": [],
   "source": [
    "# prediction intervals\n",
    "# lower bound\n",
    "lower_l = bootstrap_mean_preds_test - 1.96*np.sqrt(np.squeeze(predicted_variance_test) + model_variance_test)"
   ]
  },
  {
   "cell_type": "code",
   "execution_count": null,
   "id": "4105f9bf-c1bc-4c0c-a982-a88f800e62c8",
   "metadata": {},
   "outputs": [],
   "source": [
    "# any missing values\n",
    "np.isnan(lower_l).sum()"
   ]
  },
  {
   "cell_type": "code",
   "execution_count": null,
   "id": "9f991237-a2eb-4614-8b1f-a007f927b364",
   "metadata": {},
   "outputs": [],
   "source": [
    "lower_l.shape"
   ]
  },
  {
   "cell_type": "code",
   "execution_count": null,
   "id": "5a415b34-cc43-408c-92e5-fb17743baabf",
   "metadata": {},
   "outputs": [],
   "source": [
    "# upper bound\n",
    "upper_l = bootstrap_mean_preds_test + 1.96*np.sqrt(np.squeeze(predicted_variance_test) + model_variance_test)"
   ]
  },
  {
   "cell_type": "code",
   "execution_count": null,
   "id": "f52a3b77-d0ae-43f1-8829-157afdcb3671",
   "metadata": {},
   "outputs": [],
   "source": [
    "# any missing values?\n",
    "np.isnan(upper_l).sum()"
   ]
  },
  {
   "cell_type": "code",
   "execution_count": null,
   "id": "2bd69c9d-ca6f-45a9-9faa-b831ea75e54e",
   "metadata": {},
   "outputs": [],
   "source": [
    "upper_l.shape"
   ]
  },
  {
   "cell_type": "code",
   "execution_count": null,
   "id": "a1ea50fd-c232-45e9-8d53-2e7daa589297",
   "metadata": {},
   "outputs": [],
   "source": [
    "# see if some of these values are correct - sanity check"
   ]
  },
  {
   "cell_type": "code",
   "execution_count": null,
   "id": "4434c520-a63d-4135-8eca-2870b300443b",
   "metadata": {},
   "outputs": [],
   "source": [
    "print(bootstrap_mean_preds_test[85] - 1.96*np.sqrt(np.squeeze(predicted_variance_test[85]) + model_variance_test[85]))\n",
    "print(bootstrap_mean_preds_test[85] + 1.96*np.sqrt(np.squeeze(predicted_variance_test[85]) + model_variance_test[85]))"
   ]
  },
  {
   "cell_type": "code",
   "execution_count": null,
   "id": "ae2735e8-e774-45ab-86e2-dd785bf5e7b7",
   "metadata": {},
   "outputs": [],
   "source": [
    "np.squeeze(predicted_variance_test[0])"
   ]
  },
  {
   "cell_type": "code",
   "execution_count": null,
   "id": "77ef1c06-fb42-4c9c-833c-2e500069a678",
   "metadata": {},
   "outputs": [],
   "source": [
    "model_variance_test[0]"
   ]
  },
  {
   "cell_type": "code",
   "execution_count": null,
   "id": "0b4d3642-5c27-4438-a766-576acc72a43b",
   "metadata": {},
   "outputs": [],
   "source": [
    "lower_l[85], upper_l[85]"
   ]
  },
  {
   "cell_type": "code",
   "execution_count": null,
   "id": "955bfa64-5d14-4a0d-a4c8-667cedde7f90",
   "metadata": {},
   "outputs": [],
   "source": [
    "# Need to now work on computing the widths and the coverages, but it should be straightforward. And then average these out"
   ]
  },
  {
   "cell_type": "code",
   "execution_count": null,
   "id": "96e8108a-cf88-4883-8943-f59468f5a6a0",
   "metadata": {},
   "outputs": [],
   "source": [
    "# Add the codes for computing the average width and the coverages, not seeif any missing values, which is a good indication teh cide is woring fune."
   ]
  },
  {
   "cell_type": "code",
   "execution_count": null,
   "id": "c82bf6d8-b4b6-43e4-b815-dd40e43d7aff",
   "metadata": {},
   "outputs": [],
   "source": [
    "upper_l.shape, lower_l.shape"
   ]
  },
  {
   "cell_type": "code",
   "execution_count": null,
   "id": "962cee71-c109-4997-ad96-82d48cafa195",
   "metadata": {},
   "outputs": [],
   "source": [
    "# how to get the average width?\n",
    "# let's just get the higher - lower, and not the 95% interval width\n",
    "diff_l = upper_l - lower_l"
   ]
  },
  {
   "cell_type": "code",
   "execution_count": null,
   "id": "8f50e8e1-2ec1-49fb-acbd-5cb133a329c9",
   "metadata": {},
   "outputs": [],
   "source": [
    "np.mean(diff_l)"
   ]
  },
  {
   "cell_type": "code",
   "execution_count": null,
   "id": "c7b82b9c-4a90-4e7a-89c2-6c3d2501d1ff",
   "metadata": {
    "scrolled": true
   },
   "outputs": [],
   "source": [
    "catch_true_values = []\n",
    "for i in range(upper_l.shape[0]):\n",
    "    true_value =  y_test[i]\n",
    "    # print(true_value)\n",
    "    # print(upper_l[i])\n",
    "    # print(lower_l[i])\n",
    "    if lower_l[i] <= true_value <= upper_l[i]:\n",
    "        catch_true_values.append(True)\n",
    "    else:\n",
    "        catch_true_values.append(False)"
   ]
  },
  {
   "cell_type": "code",
   "execution_count": null,
   "id": "0c49128e-4e66-4d68-af44-de546e6e6347",
   "metadata": {},
   "outputs": [],
   "source": [
    "np.mean(catch_true_values)"
   ]
  },
  {
   "cell_type": "code",
   "execution_count": null,
   "id": "034618ad-c530-4b38-8b43-1eeea69415f1",
   "metadata": {},
   "outputs": [],
   "source": [
    "# but I think we need to worry about the 95% intervals and not the regular lower and the upper limit"
   ]
  },
  {
   "cell_type": "code",
   "execution_count": null,
   "id": "301afd55-b37b-4d22-89e9-9463b7ee1704",
   "metadata": {},
   "outputs": [],
   "source": [
    "# we need to figure out how to go about this?"
   ]
  },
  {
   "cell_type": "code",
   "execution_count": null,
   "id": "c4c0a001-8108-4de4-9877-f83d6aff2044",
   "metadata": {},
   "outputs": [],
   "source": [
    "# no actually we did indeed compute the 95% prediction intervals according to the paper, so it should be all good."
   ]
  }
 ],
 "metadata": {
  "kernelspec": {
   "display_name": "Python (tfp_for_TN)",
   "language": "python",
   "name": "tfp_for_tn"
  },
  "language_info": {
   "codemirror_mode": {
    "name": "ipython",
    "version": 3
   },
   "file_extension": ".py",
   "mimetype": "text/x-python",
   "name": "python",
   "nbconvert_exporter": "python",
   "pygments_lexer": "ipython3",
   "version": "3.10.14"
  }
 },
 "nbformat": 4,
 "nbformat_minor": 5
}
